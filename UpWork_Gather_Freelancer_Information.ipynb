{
 "cells": [
  {
   "cell_type": "markdown",
   "metadata": {},
   "source": [
    "## Set up API"
   ]
  },
  {
   "cell_type": "markdown",
   "metadata": {},
   "source": [
    "To get information from Upwork's API, you need to first request an API Key. You'll get a public key and a secret key. Then you can install the upwork python package and request a token. After that, you can do requests until the cows come home (actually, only until you hit the 40K limit). "
   ]
  },
  {
   "cell_type": "code",
   "execution_count": null,
   "metadata": {
    "collapsed": true
   },
   "outputs": [],
   "source": [
    "import upwork\n",
    "pk = YYY\n",
    "sk = XXX\n",
    "client = upwork.Client(public_key = pk, secret_key = sk)"
   ]
  },
  {
   "cell_type": "code",
   "execution_count": null,
   "metadata": {
    "collapsed": true
   },
   "outputs": [],
   "source": [
    "client.auth.get_request_token()"
   ]
  },
  {
   "cell_type": "code",
   "execution_count": null,
   "metadata": {
    "collapsed": true
   },
   "outputs": [],
   "source": [
    "import requests\n",
    "\n",
    "authorize_url = client.auth.get_authorize_url()\n",
    "\n",
    "# Invoke the authorize url\n",
    "requests.get(authorize_url)\n",
    "\n",
    "verifier = raw_input(\n",
    "    'Please enter the verification code you get '\n",
    "    'following this link:\\n{0}\\n\\n> '.format(\n",
    "        client.auth.get_authorize_url()))\n",
    "\n",
    "access_token, access_token_secret = client.auth.get_access_token(verifier)"
   ]
  },
  {
   "cell_type": "markdown",
   "metadata": {},
   "source": [
    "## Get all the Freelancers in the Data Science & Analytics Category on UpWork"
   ]
  },
  {
   "cell_type": "code",
   "execution_count": null,
   "metadata": {
    "collapsed": true
   },
   "outputs": [],
   "source": [
    "from pymongo import MongoClient\n",
    "client = MongoClient()\n",
    "db = client.data_scientist_profiles\n",
    "import json"
   ]
  },
  {
   "cell_type": "code",
   "execution_count": null,
   "metadata": {
    "collapsed": true
   },
   "outputs": [],
   "source": [
    "client = upwork.Client(pk, sk, access_token, access_token_secret)\n",
    "data = {'category2': 'Data Science & Analytics'}"
   ]
  },
  {
   "cell_type": "markdown",
   "metadata": {},
   "source": [
    "Define a function that will get a certain number of pages of 99 data scientists each. "
   ]
  },
  {
   "cell_type": "code",
   "execution_count": null,
   "metadata": {
    "collapsed": true
   },
   "outputs": [],
   "source": [
    "def final_data_science_profiles(page_number):\n",
    "    data = {'category2': 'Data Science & Analytics'}\n",
    "    for i in range(1, page_number):\n",
    "        # get 100 data scientists\n",
    "        data_scientists = client.provider_v2.search_providers(data = data, page_offset = (i - 1) * 99 + 1, page_size = 99)\n",
    "        #if no entries returned, stop \n",
    "        if len(data_scientists) == 0: \n",
    "            break\n",
    "        # insert records into DB    \n",
    "        db.final_profiles.insert_many(data_scientists)"
   ]
  },
  {
   "cell_type": "code",
   "execution_count": null,
   "metadata": {
    "collapsed": true
   },
   "outputs": [],
   "source": [
    "final_data_science_profiles(1500)"
   ]
  },
  {
   "cell_type": "markdown",
   "metadata": {},
   "source": [
    "Practical tip: this will sometimes result in an error because of \"Duplicate timestamp/nonce combination, possible replay attack. Request rejected.\" I think this is because the requests were coming so quickly. Therefore, when actually gathering the data, I had to run the above function multiple times, each time starting where the last one stopped. "
   ]
  },
  {
   "cell_type": "code",
   "execution_count": null,
   "metadata": {
    "collapsed": true
   },
   "outputs": [],
   "source": [
    "len(db.final_profiles.distinct(\"id\"))"
   ]
  },
  {
   "cell_type": "markdown",
   "metadata": {},
   "source": [
    "Our final dataset has about 93,000 profiles of freelancers. "
   ]
  },
  {
   "cell_type": "markdown",
   "metadata": {},
   "source": [
    "## Get Detailed Profile Information"
   ]
  },
  {
   "cell_type": "markdown",
   "metadata": {},
   "source": [
    "Upwork's API also provides you with very detailed profile information for a given ID. Therefore, once I had all the ids for the data scientists, I could use this API call to get this information, including all the jobs they completed. Because of the error noted above, I put in a try loop that put a 4 second sleep after each failed call. I also saved time by not putting every entry immediately into mongoDB.\n",
    "\n",
    "Theoretically `get_provider` should also work with a list of up to 20 profile ids, but I could not get that working. "
   ]
  },
  {
   "cell_type": "code",
   "execution_count": null,
   "metadata": {
    "collapsed": true
   },
   "outputs": [],
   "source": [
    "import time\n",
    "\n",
    "def get_profile_details(ids):\n",
    "    profile_details = []\n",
    "    for user_id in ids:\n",
    "        try: \n",
    "            profile_detail = client.provider.get_provider(user_id)\n",
    "            profile_details.append(profile_detail)\n",
    "        except: \n",
    "            time.sleep(4)\n",
    "            # write everyting we've gathered so far and reset profile_details to empty\n",
    "            db.final_profile_details.insert_many(profile_details)\n",
    "            profile_details = []\n",
    "            # get the profile detail of the one that failed and write it\n",
    "            pd = client.provider.get_provider(user_id)\n",
    "            db.final_profile_details.insert_one(pd)\n",
    "            continue\n",
    "    # insert any profile details remaining\n",
    "    db.final_profile_details.insert_many(profile_details)      "
   ]
  },
  {
   "cell_type": "code",
   "execution_count": null,
   "metadata": {
    "collapsed": true
   },
   "outputs": [],
   "source": [
    "user_ids = db.final_profiles.distinct(\"id\")\n",
    "get_profile_details(user_ids)"
   ]
  }
 ],
 "metadata": {
  "kernelspec": {
   "display_name": "Python 2",
   "language": "python",
   "name": "python2"
  },
  "language_info": {
   "codemirror_mode": {
    "name": "ipython",
    "version": 2
   },
   "file_extension": ".py",
   "mimetype": "text/x-python",
   "name": "python",
   "nbconvert_exporter": "python",
   "pygments_lexer": "ipython2",
   "version": "2.7.11"
  }
 },
 "nbformat": 4,
 "nbformat_minor": 0
}
