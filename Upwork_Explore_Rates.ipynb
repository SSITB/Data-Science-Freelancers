{
 "cells": [
  {
   "cell_type": "code",
   "execution_count": 3,
   "metadata": {
    "collapsed": true
   },
   "outputs": [],
   "source": [
    "import pickle\n",
    "import pandas as pd\n",
    "import numpy as np\n",
    "import seaborn as sns\n",
    "import re\n",
    "import matplotlib.pyplot as plt\n",
    "%matplotlib inline"
   ]
  },
  {
   "cell_type": "code",
   "execution_count": 4,
   "metadata": {
    "collapsed": false
   },
   "outputs": [],
   "source": [
    "with open(\"assignments.pkl\", 'r') as picklefile: \n",
    "    assignments = pickle.load(picklefile)\n",
    "ids_with_jobs = assignments[\"ciphertext\"].unique()"
   ]
  },
  {
   "cell_type": "code",
   "execution_count": 5,
   "metadata": {
    "collapsed": false
   },
   "outputs": [],
   "source": [
    "hourly_with_payment = assignments[(pd.isnull(assignments[\"as_total_charge\"]) == False) & (assignments[\"as_job_type\"] == \"Hourly\") & (assignments[\"as_total_hours_precise\"] != \"0\")]\n",
    "hourly_without_payment = assignments[((pd.isnull(assignments[\"as_total_charge\"]) == True) | (assignments[\"as_total_hours_precise\"] == \"0\")) & (assignments[\"as_job_type\"] == \"Hourly\")]\n",
    "count_assignments_np = hourly_without_payment[[\"ciphertext\", \"as_opening_title\"]].groupby(\"ciphertext\").agg('count').reset_index()\n",
    "count_assignments_p = hourly_with_payment[[\"ciphertext\", \"as_opening_title\"]].groupby(\"ciphertext\").agg('count').reset_index()\n",
    "count_assignments_np.columns = [\"ciphertext\", \"assignments_not_paid\"]\n",
    "count_assignments_p.columns = [\"ciphertext\", \"assignments_paid\"]\n",
    "# ciphertext, num assignments no payment info, num assignments payment info "
   ]
  },
  {
   "cell_type": "code",
   "execution_count": 6,
   "metadata": {
    "collapsed": false
   },
   "outputs": [],
   "source": [
    "merged_count = count_assignments_p.merge(count_assignments_np, how = \"outer\", on = \"ciphertext\")"
   ]
  },
  {
   "cell_type": "code",
   "execution_count": 7,
   "metadata": {
    "collapsed": false
   },
   "outputs": [
    {
     "data": {
      "text/plain": [
       "14053"
      ]
     },
     "execution_count": 7,
     "metadata": {},
     "output_type": "execute_result"
    }
   ],
   "source": [
    "len(merged_count)\n",
    "# have 14,000 people or so "
   ]
  },
  {
   "cell_type": "code",
   "execution_count": 8,
   "metadata": {
    "collapsed": false
   },
   "outputs": [],
   "source": [
    "merged_count = merged_count.fillna(value = 0)"
   ]
  },
  {
   "cell_type": "code",
   "execution_count": 9,
   "metadata": {
    "collapsed": false
   },
   "outputs": [
    {
     "name": "stdout",
     "output_type": "stream",
     "text": [
      "4113 freelancers always had payment information\n",
      "2719 freelancers never had payment information\n",
      "7221 freelancers had both types of public payment and private\n"
     ]
    }
   ],
   "source": [
    "never_had_payment_info = merged_count[merged_count[\"assignments_paid\"] == 0]\n",
    "always_had_payment_info = merged_count[merged_count[\"assignments_not_paid\"] == 0]\n",
    "had_both_types = len(merged_count) - len(never_had_payment_info) - len(always_had_payment_info)\n",
    "print \"%d freelancers always had payment information\" %len(always_had_payment_info)\n",
    "print \"%d freelancers never had payment information\" %len(never_had_payment_info)\n",
    "print \"%d freelancers had both types of public payment and private\" %had_both_types"
   ]
  },
  {
   "cell_type": "code",
   "execution_count": 10,
   "metadata": {
    "collapsed": true
   },
   "outputs": [],
   "source": [
    "from pymongo import MongoClient\n",
    "client = MongoClient()\n",
    "db = client.data_scientist_profiles"
   ]
  },
  {
   "cell_type": "code",
   "execution_count": 11,
   "metadata": {
    "collapsed": false
   },
   "outputs": [],
   "source": [
    "ids_with_jobs = ids_with_jobs.tolist()\n",
    "cursor = db.final_profile_details.find({\"ciphertext\": { \"$in\": ids_with_jobs}}, {\"dev_bill_rate\": 1,\n",
    "                                        \"ciphertext\" : 1, \"dev_profile_title\": 1, \n",
    "                                        \"dev_country\": 1})\n",
    "profiles_billing =  pd.DataFrame(list(cursor))"
   ]
  },
  {
   "cell_type": "code",
   "execution_count": 12,
   "metadata": {
    "collapsed": false
   },
   "outputs": [
    {
     "data": {
      "text/html": [
       "<div>\n",
       "<table border=\"1\" class=\"dataframe\">\n",
       "  <thead>\n",
       "    <tr style=\"text-align: right;\">\n",
       "      <th></th>\n",
       "      <th>_id</th>\n",
       "      <th>ciphertext</th>\n",
       "      <th>dev_bill_rate</th>\n",
       "      <th>dev_country</th>\n",
       "      <th>dev_profile_title</th>\n",
       "    </tr>\n",
       "  </thead>\n",
       "  <tbody>\n",
       "    <tr>\n",
       "      <th>0</th>\n",
       "      <td>57c488aa97f6b341e8728c4d</td>\n",
       "      <td>~01d3ad50155896e4ae</td>\n",
       "      <td>35.00</td>\n",
       "      <td>Ireland</td>\n",
       "      <td>Data Science and Statistics Consultant | Pytho...</td>\n",
       "    </tr>\n",
       "    <tr>\n",
       "      <th>1</th>\n",
       "      <td>57c4890097f6b341e8728c4e</td>\n",
       "      <td>~01d3ad50155896e4ae</td>\n",
       "      <td>35.00</td>\n",
       "      <td>Ireland</td>\n",
       "      <td>Data Science and Statistics Consultant | Pytho...</td>\n",
       "    </tr>\n",
       "    <tr>\n",
       "      <th>2</th>\n",
       "      <td>57c4890297f6b341e8728c51</td>\n",
       "      <td>~0199f1742b3c7202ba</td>\n",
       "      <td>18.00</td>\n",
       "      <td>United States</td>\n",
       "      <td>Data Science Analytic</td>\n",
       "    </tr>\n",
       "    <tr>\n",
       "      <th>3</th>\n",
       "      <td>57c4890397f6b341e8728c52</td>\n",
       "      <td>~010ee721f96dbeb744</td>\n",
       "      <td>8.00</td>\n",
       "      <td>India</td>\n",
       "      <td>Analytics Consulting, Data Science</td>\n",
       "    </tr>\n",
       "    <tr>\n",
       "      <th>4</th>\n",
       "      <td>57c4890397f6b341e8728c53</td>\n",
       "      <td>~0113b7a1ad10ba8634</td>\n",
       "      <td>25.00</td>\n",
       "      <td>United States</td>\n",
       "      <td>Data science &amp; statistical computing</td>\n",
       "    </tr>\n",
       "  </tbody>\n",
       "</table>\n",
       "</div>"
      ],
      "text/plain": [
       "                        _id           ciphertext dev_bill_rate    dev_country  \\\n",
       "0  57c488aa97f6b341e8728c4d  ~01d3ad50155896e4ae         35.00        Ireland   \n",
       "1  57c4890097f6b341e8728c4e  ~01d3ad50155896e4ae         35.00        Ireland   \n",
       "2  57c4890297f6b341e8728c51  ~0199f1742b3c7202ba         18.00  United States   \n",
       "3  57c4890397f6b341e8728c52  ~010ee721f96dbeb744          8.00          India   \n",
       "4  57c4890397f6b341e8728c53  ~0113b7a1ad10ba8634         25.00  United States   \n",
       "\n",
       "                                   dev_profile_title  \n",
       "0  Data Science and Statistics Consultant | Pytho...  \n",
       "1  Data Science and Statistics Consultant | Pytho...  \n",
       "2                              Data Science Analytic  \n",
       "3                 Analytics Consulting, Data Science  \n",
       "4               Data science & statistical computing  "
      ]
     },
     "execution_count": 12,
     "metadata": {},
     "output_type": "execute_result"
    }
   ],
   "source": [
    "profiles_billing.head()"
   ]
  },
  {
   "cell_type": "markdown",
   "metadata": {},
   "source": [
    "### Billing Rates by Country"
   ]
  },
  {
   "cell_type": "code",
   "execution_count": 52,
   "metadata": {
    "collapsed": false
   },
   "outputs": [
    {
     "name": "stdout",
     "output_type": "stream",
     "text": [
      "Freelancers come from 156 countries\n"
     ]
    }
   ],
   "source": [
    "print \"Freelancers come from %d countries\" %len(profiles_billing.groupby([\"dev_country\"]))"
   ]
  },
  {
   "cell_type": "code",
   "execution_count": 89,
   "metadata": {
    "collapsed": false
   },
   "outputs": [],
   "source": [
    "profiles_billing[\"dev_bill_rate\"] = profiles_billing[\"dev_bill_rate\"].apply(lambda x: float(x))\n",
    "country_count = profiles_billing[[\"_id\", \"dev_country\"]].groupby([\"dev_country\"]).agg(\"count\").reset_index()\n",
    "country_count.columns = [\"Country\", \"Num_of_Freelancers\"]\n",
    "popular_countries = country_count[country_count[\"Num_of_Freelancers\"] > 175]\n",
    "profiles_billing_pop_countries = profiles_billing[profiles_billing[\"dev_country\"].isin(popular_countries[\"Country\"])]\n",
    "mean_dev_rate = profiles_billing_pop_countries[[\"dev_bill_rate\", \"dev_country\"]].groupby(\"dev_country\").mean().reset_index()\n",
    "mean_dev_rate.sort_values(\"dev_bill_rate\", inplace = True)"
   ]
  },
  {
   "cell_type": "code",
   "execution_count": 187,
   "metadata": {
    "collapsed": false
   },
   "outputs": [
    {
     "data": {
      "image/png": "[encoded data removed]",
      "text/plain": [
       "<matplotlib.figure.Figure at 0x13c580a90>"
      ]
     },
     "metadata": {},
     "output_type": "display_data"
    }
   ],
   "source": [
    "g = sns.barplot(x = \"dev_country\", y = \"dev_bill_rate\", data = profiles_billing_pop_countries, \n",
    "               order = mean_dev_rate[\"dev_country\"])\n",
    "plt.xticks(rotation=90)\n",
    "g.set(xlabel = \"Country\", ylabel = \"Mean Stated Hourly Rate\")"
   ]
  },
  {
   "cell_type": "code",
   "execution_count": 95,
   "metadata": {
    "collapsed": false
   },
   "outputs": [
    {
     "data": {
      "text/plain": [
       "(array([ 0,  1,  2,  3,  4,  5,  6,  7,  8,  9, 10, 11, 12, 13]),\n",
       " <a list of 14 Text xticklabel objects>)"
      ]
     },
     "execution_count": 95,
     "metadata": {},
     "output_type": "execute_result"
    },
    {
     "data": {
      "image/png": "[encoded data removed]",
      "text/plain": [
       "<matplotlib.figure.Figure at 0x135e925d0>"
      ]
     },
     "metadata": {},
     "output_type": "display_data"
    }
   ],
   "source": [
    "profiles_billing_pop_countries_no_out = profiles_billing_pop_countries[profiles_billing_pop_countries[\"dev_bill_rate\"] < 250]\n",
    "sns.boxplot(x = \"dev_country\", y = \"dev_bill_rate\", data = profiles_billing_pop_countries_no_out, order = mean_dev_rate[\"dev_country\"])\n",
    "plt.xticks(rotation=90)\n"
   ]
  },
  {
   "cell_type": "markdown",
   "metadata": {},
   "source": [
    "## Billing Rates by Country only those who have done DS jobs"
   ]
  },
  {
   "cell_type": "code",
   "execution_count": 13,
   "metadata": {
    "collapsed": true
   },
   "outputs": [],
   "source": [
    "data_science_terms = [\"(?i)data\", \"(?i)research\", \"(?i)entry\", \"(?i)excel\", \"(?i)web\",\n",
    "                     \"(?i)developer\", \"(?i)database\", \"(?i)researcher\", \"(?i)spreadsheet\", \n",
    "                     \"(?i)scrap\", \"(?i)php\", \"(?i)python\", \"(?i)STATA\", \"(?i)SPSS\", \"(?i)SQL\", \n",
    "                     \"(?i)MATLAB\", \"(?i)study\", \"(?i)survey\", \"(?i)statis\", \"(?i)probability\", \n",
    "                     \"(?i)analy\", \"(?i)optimiz\", \"(?i)hadoop\", \"(?i)spark\", \"(?i)file\", \n",
    "                     \"(?i)machine\", \"(?i) R \", \"(?i)science\", \"(?i)csv\", \"(?i)d3\", \"(?i)Visualiz\", \n",
    "                     \"(?i)mining\", \"(i?)java\", \"(?i)scrape\", \"(?i)quant\", \"(?i)model\", \"(?i)github\",\n",
    "                     \"(?i)api \", \"(?i)code\", \"(?i)program\", \"(?i)json\", \"(?i)automat\", \"(?i)devel\", \n",
    "                     \"(?i)search\", \"(?i)forecasting\", \"(?i)\\[R\\]\", \"(?i)calcul\", \"(?i)script\", \n",
    "                     \"(?i)processi\", \"(?i)classif\", \"(?i)simulat\", \"(?i)math\", \"(?i)algorit\", \n",
    "                     \"(?i)Probabil\", \"(?i)Predict\"]"
   ]
  },
  {
   "cell_type": "code",
   "execution_count": 14,
   "metadata": {
    "collapsed": false
   },
   "outputs": [
    {
     "data": {
      "text/plain": [
       "122359"
      ]
     },
     "execution_count": 14,
     "metadata": {},
     "output_type": "execute_result"
    }
   ],
   "source": [
    "# Make a regex that matches if any of our regexes match.\n",
    "combined_data_science_terms = \"(\" + \")|(\".join(data_science_terms) + \")\"\n",
    "data_science_job = assignments[\"as_opening_title\"].apply(lambda x: 1 if re.search(combined_data_science_terms, x) else 0)\n",
    "sum(data_science_job)"
   ]
  },
  {
   "cell_type": "code",
   "execution_count": 15,
   "metadata": {
    "collapsed": true
   },
   "outputs": [],
   "source": [
    "assignments[\"ds_job\"] = data_science_job\n",
    "ds_jobs = assignments[assignments[\"ds_job\"] == 1]\n",
    "people_with_ds_jobs = ds_jobs[\"ciphertext\"].unique()"
   ]
  },
  {
   "cell_type": "code",
   "execution_count": 22,
   "metadata": {
    "collapsed": false
   },
   "outputs": [
    {
     "name": "stderr",
     "output_type": "stream",
     "text": [
      "/anaconda/lib/python2.7/site-packages/ipykernel/__main__.py:2: SettingWithCopyWarning: \n",
      "A value is trying to be set on a copy of a slice from a DataFrame.\n",
      "Try using .loc[row_indexer,col_indexer] = value instead\n",
      "\n",
      "See the caveats in the documentation: http://pandas.pydata.org/pandas-docs/stable/indexing.html#indexing-view-versus-copy\n",
      "  from ipykernel import kernelapp as app\n"
     ]
    }
   ],
   "source": [
    "ds_jobs_limited = ds_jobs[[\"ciphertext\", \"as_opening_title\"]]\n",
    "ds_jobs_limited[\"as_opening_title\"] = ds_jobs_limited[\"as_opening_title\"].apply(lambda x: x.encode('ascii', 'ignore'))\n",
    "pd.DataFrame.to_csv(ds_jobs_limited, \"ds_job_titles.csv\")"
   ]
  },
  {
   "cell_type": "code",
   "execution_count": 20,
   "metadata": {
    "collapsed": false
   },
   "outputs": [
    {
     "data": {
      "text/html": [
       "<div>\n",
       "<table border=\"1\" class=\"dataframe\">\n",
       "  <thead>\n",
       "    <tr style=\"text-align: right;\">\n",
       "      <th></th>\n",
       "      <th>as_agency_name</th>\n",
       "      <th>as_ciphertext_opening_recno</th>\n",
       "      <th>as_financial_privacy</th>\n",
       "      <th>as_from_full</th>\n",
       "      <th>as_job_type</th>\n",
       "      <th>as_opening_title</th>\n",
       "      <th>as_rate</th>\n",
       "      <th>as_to</th>\n",
       "      <th>as_to_full</th>\n",
       "      <th>as_total_charge</th>\n",
       "      <th>as_total_hours</th>\n",
       "      <th>as_total_hours_precise</th>\n",
       "      <th>ciphertext</th>\n",
       "      <th>ds_job</th>\n",
       "    </tr>\n",
       "  </thead>\n",
       "  <tbody>\n",
       "    <tr>\n",
       "      <th>6</th>\n",
       "      <td>NaN</td>\n",
       "      <td>NaN</td>\n",
       "      <td>NaN</td>\n",
       "      <td>NaN</td>\n",
       "      <td>Fixed</td>\n",
       "      <td>Data Mining Research Project (1/3) Completed</td>\n",
       "      <td>$0.00</td>\n",
       "      <td>08/2016</td>\n",
       "      <td>08/12/2016</td>\n",
       "      <td>220</td>\n",
       "      <td>0.00</td>\n",
       "      <td>0</td>\n",
       "      <td>~01d3ad50155896e4ae</td>\n",
       "      <td>1</td>\n",
       "    </tr>\n",
       "    <tr>\n",
       "      <th>7</th>\n",
       "      <td>NaN</td>\n",
       "      <td>NaN</td>\n",
       "      <td>NaN</td>\n",
       "      <td>NaN</td>\n",
       "      <td>Fixed</td>\n",
       "      <td>STATA help- regression</td>\n",
       "      <td>$0.00</td>\n",
       "      <td>07/2016</td>\n",
       "      <td>07/25/2016</td>\n",
       "      <td>60</td>\n",
       "      <td>0.00</td>\n",
       "      <td>0</td>\n",
       "      <td>~01d3ad50155896e4ae</td>\n",
       "      <td>1</td>\n",
       "    </tr>\n",
       "    <tr>\n",
       "      <th>8</th>\n",
       "      <td>NaN</td>\n",
       "      <td>NaN</td>\n",
       "      <td>NaN</td>\n",
       "      <td>NaN</td>\n",
       "      <td>Fixed</td>\n",
       "      <td>Simple Python Programming</td>\n",
       "      <td>$0.00</td>\n",
       "      <td>07/2016</td>\n",
       "      <td>07/18/2016</td>\n",
       "      <td>50</td>\n",
       "      <td>0.00</td>\n",
       "      <td>0</td>\n",
       "      <td>~01d3ad50155896e4ae</td>\n",
       "      <td>1</td>\n",
       "    </tr>\n",
       "    <tr>\n",
       "      <th>9</th>\n",
       "      <td>NaN</td>\n",
       "      <td>NaN</td>\n",
       "      <td>NaN</td>\n",
       "      <td>NaN</td>\n",
       "      <td>Fixed</td>\n",
       "      <td>Forecasting - ARIMAX [R]</td>\n",
       "      <td>None</td>\n",
       "      <td>07/2016</td>\n",
       "      <td>07/07/2016</td>\n",
       "      <td>None</td>\n",
       "      <td>0.00</td>\n",
       "      <td>0</td>\n",
       "      <td>~01d3ad50155896e4ae</td>\n",
       "      <td>1</td>\n",
       "    </tr>\n",
       "    <tr>\n",
       "      <th>10</th>\n",
       "      <td>NaN</td>\n",
       "      <td>NaN</td>\n",
       "      <td>NaN</td>\n",
       "      <td>NaN</td>\n",
       "      <td>Fixed</td>\n",
       "      <td>Statistical analysis for study with 116 partic...</td>\n",
       "      <td>None</td>\n",
       "      <td>06/2016</td>\n",
       "      <td>06/12/2016</td>\n",
       "      <td>None</td>\n",
       "      <td>0.00</td>\n",
       "      <td>0</td>\n",
       "      <td>~01d3ad50155896e4ae</td>\n",
       "      <td>1</td>\n",
       "    </tr>\n",
       "  </tbody>\n",
       "</table>\n",
       "</div>"
      ],
      "text/plain": [
       "   as_agency_name as_ciphertext_opening_recno as_financial_privacy  \\\n",
       "6             NaN                         NaN                  NaN   \n",
       "7             NaN                         NaN                  NaN   \n",
       "8             NaN                         NaN                  NaN   \n",
       "9             NaN                         NaN                  NaN   \n",
       "10            NaN                         NaN                  NaN   \n",
       "\n",
       "   as_from_full as_job_type  \\\n",
       "6           NaN       Fixed   \n",
       "7           NaN       Fixed   \n",
       "8           NaN       Fixed   \n",
       "9           NaN       Fixed   \n",
       "10          NaN       Fixed   \n",
       "\n",
       "                                     as_opening_title as_rate    as_to  \\\n",
       "6        Data Mining Research Project (1/3) Completed   $0.00  08/2016   \n",
       "7                              STATA help- regression   $0.00  07/2016   \n",
       "8                           Simple Python Programming   $0.00  07/2016   \n",
       "9                            Forecasting - ARIMAX [R]    None  07/2016   \n",
       "10  Statistical analysis for study with 116 partic...    None  06/2016   \n",
       "\n",
       "    as_to_full as_total_charge as_total_hours as_total_hours_precise  \\\n",
       "6   08/12/2016             220           0.00                      0   \n",
       "7   07/25/2016              60           0.00                      0   \n",
       "8   07/18/2016              50           0.00                      0   \n",
       "9   07/07/2016            None           0.00                      0   \n",
       "10  06/12/2016            None           0.00                      0   \n",
       "\n",
       "             ciphertext  ds_job  \n",
       "6   ~01d3ad50155896e4ae       1  \n",
       "7   ~01d3ad50155896e4ae       1  \n",
       "8   ~01d3ad50155896e4ae       1  \n",
       "9   ~01d3ad50155896e4ae       1  \n",
       "10  ~01d3ad50155896e4ae       1  "
      ]
     },
     "execution_count": 20,
     "metadata": {},
     "output_type": "execute_result"
    }
   ],
   "source": [
    "ds_jobs.head()"
   ]
  },
  {
   "cell_type": "code",
   "execution_count": 16,
   "metadata": {
    "collapsed": false
   },
   "outputs": [
    {
     "data": {
      "text/plain": [
       "15591"
      ]
     },
     "execution_count": 16,
     "metadata": {},
     "output_type": "execute_result"
    }
   ],
   "source": [
    "len(people_with_ds_jobs)"
   ]
  },
  {
   "cell_type": "code",
   "execution_count": 19,
   "metadata": {
    "collapsed": true
   },
   "outputs": [],
   "source": [
    "with open('people_with_ds_jobs.pkl', 'w') as picklefile:\n",
    "    pickle.dump(people_with_ds_jobs, picklefile)"
   ]
  },
  {
   "cell_type": "code",
   "execution_count": 100,
   "metadata": {
    "collapsed": true
   },
   "outputs": [],
   "source": [
    "profiles_billing_ds = profiles_billing[profiles_billing[\"ciphertext\"].isin(people_with_ds_jobs)]\n",
    "country_count_ds = profiles_billing_ds[[\"_id\", \"dev_country\"]].groupby([\"dev_country\"]).agg(\"count\").reset_index()\n",
    "country_count_ds.columns = [\"Country\", \"Num_of_Freelancers\"]\n",
    "popular_countries_ds = country_count_ds[country_count_ds[\"Num_of_Freelancers\"] > 175]\n",
    "profiles_billing_pop_countries_ds = profiles_billing_ds[profiles_billing_ds[\"dev_country\"].isin(popular_countries_ds[\"Country\"])]\n",
    "mean_dev_rate_ds = profiles_billing_pop_countries_ds[[\"dev_bill_rate\", \"dev_country\"]].groupby(\"dev_country\").mean().reset_index()\n",
    "mean_dev_rate_ds.sort_values(\"dev_bill_rate\", inplace = True)"
   ]
  },
  {
   "cell_type": "code",
   "execution_count": 104,
   "metadata": {
    "collapsed": false
   },
   "outputs": [
    {
     "data": {
      "text/plain": [
       "[<matplotlib.text.Text at 0x136f44710>, <matplotlib.text.Text at 0x11d788410>]"
      ]
     },
     "execution_count": 104,
     "metadata": {},
     "output_type": "execute_result"
    },
    {
     "data": {
      "image/png": "[encoded data removed]",
      "text/plain": [
       "<matplotlib.figure.Figure at 0x13685a310>"
      ]
     },
     "metadata": {},
     "output_type": "display_data"
    }
   ],
   "source": [
    "g = sns.barplot(x = \"dev_country\", y = \"dev_bill_rate\", data = profiles_billing_pop_countries_ds, \n",
    "               order = mean_dev_rate_ds[\"dev_country\"])\n",
    "plt.xticks(rotation=90)\n",
    "g.set(xlabel = \"Country\", ylabel = \"Mean Hourly  Rate\")"
   ]
  },
  {
   "cell_type": "code",
   "execution_count": 117,
   "metadata": {
    "collapsed": false
   },
   "outputs": [
    {
     "data": {
      "text/plain": [
       "(array([ 0,  1,  2,  3,  4,  5,  6,  7,  8,  9, 10, 11, 12]),\n",
       " <a list of 13 Text xticklabel objects>)"
      ]
     },
     "execution_count": 117,
     "metadata": {},
     "output_type": "execute_result"
    },
    {
     "data": {
      "image/png": "[encoded data removed]",
      "text/plain": [
       "<matplotlib.figure.Figure at 0x138b05750>"
      ]
     },
     "metadata": {},
     "output_type": "display_data"
    }
   ],
   "source": [
    "profiles_billing_pop_countries_no_out_ds = profiles_billing_pop_countries_ds[profiles_billing_pop_countries_ds[\"dev_bill_rate\"] < 250]\n",
    "sns.boxplot(x = \"dev_country\", y = \"dev_bill_rate\", data = profiles_billing_pop_countries_no_out_ds, order = mean_dev_rate_ds[\"dev_country\"])\n",
    "plt.xticks(rotation=90)\n"
   ]
  },
  {
   "cell_type": "markdown",
   "metadata": {},
   "source": [
    "## Actual Assignment Payment by Country"
   ]
  },
  {
   "cell_type": "markdown",
   "metadata": {},
   "source": [
    "### Fixed assignments, only data science, only popular countries"
   ]
  },
  {
   "cell_type": "code",
   "execution_count": 132,
   "metadata": {
    "collapsed": false
   },
   "outputs": [],
   "source": [
    "# add on country to assignments dataset\n",
    "dev_country = profiles_billing[[\"ciphertext\", \"dev_country\"]]\n",
    "assignments_with_country = assignments.merge(dev_country, how = \"left\", on = \"ciphertext\")"
   ]
  },
  {
   "cell_type": "code",
   "execution_count": 142,
   "metadata": {
    "collapsed": false
   },
   "outputs": [
    {
     "name": "stderr",
     "output_type": "stream",
     "text": [
      "/anaconda/lib/python2.7/site-packages/ipykernel/__main__.py:3: SettingWithCopyWarning: \n",
      "A value is trying to be set on a copy of a slice from a DataFrame.\n",
      "Try using .loc[row_indexer,col_indexer] = value instead\n",
      "\n",
      "See the caveats in the documentation: http://pandas.pydata.org/pandas-docs/stable/indexing.html#indexing-view-versus-copy\n",
      "  app.launch_new_instance()\n"
     ]
    }
   ],
   "source": [
    "assignments_with_country_ds = assignments_with_country[assignments_with_country[\"ds_job\"] == 1]\n",
    "fixed_ds_coun = assignments_with_country_ds[assignments_with_country_ds[\"as_job_type\"] == \"Fixed\"]\n",
    "fixed_ds_coun[\"as_total_charge\"] = fixed_ds_coun[\"as_total_charge\"].apply(lambda x: float(x) if pd.isnull(x) == False else x)\n",
    "# only want popular countries\n",
    "fixed_ds_coun = fixed_ds_coun[fixed_ds_coun[\"dev_country\"].isin(popular_countries_ds[\"Country\"])]\n",
    "mean_fixed_rate_ds = fixed_ds_coun[[\"as_total_charge\", \"dev_country\"]].groupby(\"dev_country\").mean().reset_index()\n",
    "mean_fixed_rate_ds.sort_values(\"as_total_charge\", inplace = True)"
   ]
  },
  {
   "cell_type": "code",
   "execution_count": 149,
   "metadata": {
    "collapsed": false
   },
   "outputs": [
    {
     "data": {
      "text/plain": [
       "[<matplotlib.text.Text at 0x13d9951d0>, <matplotlib.text.Text at 0x13d97e350>]"
      ]
     },
     "execution_count": 149,
     "metadata": {},
     "output_type": "execute_result"
    },
    {
     "data": {
      "image/png": "[encoded data removed]",
      "text/plain": [
       "<matplotlib.figure.Figure at 0x13d819c10>"
      ]
     },
     "metadata": {},
     "output_type": "display_data"
    }
   ],
   "source": [
    "g = sns.barplot(x = \"dev_country\", y = \"as_total_charge\", data = fixed_ds_coun,\n",
    "                order = mean_fixed_rate_ds[\"dev_country\"])\n",
    "plt.xticks(rotation=90)\n",
    "g.set(xlabel = \"Country\", ylabel = \"Mean Billing Rate\")"
   ]
  },
  {
   "cell_type": "markdown",
   "metadata": {},
   "source": [
    "### Country count for all freelancers"
   ]
  },
  {
   "cell_type": "code",
   "execution_count": 259,
   "metadata": {
    "collapsed": true
   },
   "outputs": [],
   "source": [
    "cursor = db.final_profile_details.find({}, {\"dev_country\": 1, \"ciphertext\": 1})\n",
    "country_df =  pd.DataFrame(list(cursor))"
   ]
  },
  {
   "cell_type": "code",
   "execution_count": 269,
   "metadata": {
    "collapsed": false,
    "scrolled": true
   },
   "outputs": [
    {
     "name": "stdout",
     "output_type": "stream",
     "text": [
      "193\n"
     ]
    },
    {
     "data": {
      "text/html": [
       "<div>\n",
       "<table border=\"1\" class=\"dataframe\">\n",
       "  <thead>\n",
       "    <tr style=\"text-align: right;\">\n",
       "      <th></th>\n",
       "      <th>Country</th>\n",
       "      <th>Num_of_Freelancers</th>\n",
       "    </tr>\n",
       "  </thead>\n",
       "  <tbody>\n",
       "    <tr>\n",
       "      <th>182</th>\n",
       "      <td>United States</td>\n",
       "      <td>20570</td>\n",
       "    </tr>\n",
       "    <tr>\n",
       "      <th>78</th>\n",
       "      <td>India</td>\n",
       "      <td>18323</td>\n",
       "    </tr>\n",
       "    <tr>\n",
       "      <th>137</th>\n",
       "      <td>Philippines</td>\n",
       "      <td>10252</td>\n",
       "    </tr>\n",
       "    <tr>\n",
       "      <th>130</th>\n",
       "      <td>Pakistan</td>\n",
       "      <td>5823</td>\n",
       "    </tr>\n",
       "    <tr>\n",
       "      <th>15</th>\n",
       "      <td>Bangladesh</td>\n",
       "      <td>5110</td>\n",
       "    </tr>\n",
       "    <tr>\n",
       "      <th>181</th>\n",
       "      <td>United Kingdom</td>\n",
       "      <td>2569</td>\n",
       "    </tr>\n",
       "    <tr>\n",
       "      <th>33</th>\n",
       "      <td>Canada</td>\n",
       "      <td>2448</td>\n",
       "    </tr>\n",
       "    <tr>\n",
       "      <th>144</th>\n",
       "      <td>Russia</td>\n",
       "      <td>1965</td>\n",
       "    </tr>\n",
       "    <tr>\n",
       "      <th>89</th>\n",
       "      <td>Kenya</td>\n",
       "      <td>1903</td>\n",
       "    </tr>\n",
       "    <tr>\n",
       "      <th>179</th>\n",
       "      <td>Ukraine</td>\n",
       "      <td>1868</td>\n",
       "    </tr>\n",
       "  </tbody>\n",
       "</table>\n",
       "</div>"
      ],
      "text/plain": [
       "            Country  Num_of_Freelancers\n",
       "182   United States               20570\n",
       "78            India               18323\n",
       "137     Philippines               10252\n",
       "130        Pakistan                5823\n",
       "15       Bangladesh                5110\n",
       "181  United Kingdom                2569\n",
       "33           Canada                2448\n",
       "144          Russia                1965\n",
       "89            Kenya                1903\n",
       "179         Ukraine                1868"
      ]
     },
     "execution_count": 269,
     "metadata": {},
     "output_type": "execute_result"
    }
   ],
   "source": [
    "country_count_all = country_df.groupby([\"dev_country\"]).agg(\"count\").reset_index()\n",
    "del country_count_all[\"_id\"]\n",
    "country_count_all.columns = [\"Country\", \"Num_of_Freelancers\"]\n",
    "country_count_all = country_count_all.sort_values(by = \"Num_of_Freelancers\", ascending = False)\n",
    "print len(country_count_all)\n",
    "country_count_all.head(10)\n"
   ]
  },
  {
   "cell_type": "markdown",
   "metadata": {},
   "source": [
    "### Hourly assignments, only data science, only popular countries"
   ]
  },
  {
   "cell_type": "code",
   "execution_count": 151,
   "metadata": {
    "collapsed": false
   },
   "outputs": [
    {
     "name": "stderr",
     "output_type": "stream",
     "text": [
      "/anaconda/lib/python2.7/site-packages/ipykernel/__main__.py:5: SettingWithCopyWarning: \n",
      "A value is trying to be set on a copy of a slice from a DataFrame.\n",
      "Try using .loc[row_indexer,col_indexer] = value instead\n",
      "\n",
      "See the caveats in the documentation: http://pandas.pydata.org/pandas-docs/stable/indexing.html#indexing-view-versus-copy\n",
      "/anaconda/lib/python2.7/site-packages/ipykernel/__main__.py:6: SettingWithCopyWarning: \n",
      "A value is trying to be set on a copy of a slice from a DataFrame.\n",
      "Try using .loc[row_indexer,col_indexer] = value instead\n",
      "\n",
      "See the caveats in the documentation: http://pandas.pydata.org/pandas-docs/stable/indexing.html#indexing-view-versus-copy\n",
      "/anaconda/lib/python2.7/site-packages/ipykernel/__main__.py:7: SettingWithCopyWarning: \n",
      "A value is trying to be set on a copy of a slice from a DataFrame.\n",
      "Try using .loc[row_indexer,col_indexer] = value instead\n",
      "\n",
      "See the caveats in the documentation: http://pandas.pydata.org/pandas-docs/stable/indexing.html#indexing-view-versus-copy\n",
      "/anaconda/lib/python2.7/site-packages/ipykernel/__main__.py:9: SettingWithCopyWarning: \n",
      "A value is trying to be set on a copy of a slice from a DataFrame.\n",
      "Try using .loc[row_indexer,col_indexer] = value instead\n",
      "\n",
      "See the caveats in the documentation: http://pandas.pydata.org/pandas-docs/stable/indexing.html#indexing-view-versus-copy\n",
      "/anaconda/lib/python2.7/site-packages/ipykernel/__main__.py:10: SettingWithCopyWarning: \n",
      "A value is trying to be set on a copy of a slice from a DataFrame.\n",
      "Try using .loc[row_indexer,col_indexer] = value instead\n",
      "\n",
      "See the caveats in the documentation: http://pandas.pydata.org/pandas-docs/stable/indexing.html#indexing-view-versus-copy\n",
      "/anaconda/lib/python2.7/site-packages/ipykernel/__main__.py:11: SettingWithCopyWarning: \n",
      "A value is trying to be set on a copy of a slice from a DataFrame.\n",
      "Try using .loc[row_indexer,col_indexer] = value instead\n",
      "\n",
      "See the caveats in the documentation: http://pandas.pydata.org/pandas-docs/stable/indexing.html#indexing-view-versus-copy\n"
     ]
    }
   ],
   "source": [
    "ds_jobs = assignments_with_country[assignments_with_country[\"ds_job\"] == 1]\n",
    "ds_hourly_with_payment = ds_jobs[(pd.isnull(ds_jobs[\"as_total_charge\"]) == False) & (ds_jobs[\"as_job_type\"] == \"Hourly\")]\n",
    "ds_per_hourly_with_payment = float(len(ds_hourly_with_payment))/len(ds_jobs[ds_jobs[\"as_job_type\"] == \"Hourly\"])\n",
    "ds_per_hourly_with_payment = \"%.2f\" %ds_per_hourly_with_payment\n",
    "ds_hourly_with_payment[\"as_total_charge\"] = ds_hourly_with_payment[\"as_total_charge\"].apply(lambda x: float(x))\n",
    "ds_hourly_with_payment[\"as_total_hours_precise\"] = ds_hourly_with_payment[\"as_total_hours_precise\"].apply(lambda x: float(x))\n",
    "ds_hourly_with_payment[\"as_total_charge\"] = ds_hourly_with_payment[\"as_total_charge\"].apply(lambda x: float(x))\n",
    "ds_hourly_with_payment_hours = ds_hourly_with_payment[ds_hourly_with_payment[\"as_total_hours_precise\"] != 0]\n",
    "ds_hourly_with_payment_hours[\"real_rate\"] = ds_hourly_with_payment_hours[\"as_total_charge\"]/ds_hourly_with_payment_hours[\"as_total_hours_precise\"]\n",
    "ds_hourly_with_payment_hours[\"as_rate\"] = ds_hourly_with_payment_hours[\"as_rate\"].apply(lambda x: x.replace(\"$\", \"\"))\n",
    "ds_hourly_with_payment_hours[\"as_rate\"] = ds_hourly_with_payment_hours[\"as_rate\"].apply(lambda x: float(x))"
   ]
  },
  {
   "cell_type": "code",
   "execution_count": 156,
   "metadata": {
    "collapsed": true
   },
   "outputs": [],
   "source": [
    "ds_hourly_with_payment_hours = ds_hourly_with_payment_hours[ds_hourly_with_payment_hours[\"dev_country\"].isin(popular_countries_ds[\"Country\"])]\n",
    "mean_hourly_rate_ds = ds_hourly_with_payment_hours[[\"real_rate\", \"dev_country\"]].groupby(\"dev_country\").mean().reset_index()\n",
    "mean_hourly_rate_ds.sort_values(\"real_rate\", inplace = True)"
   ]
  },
  {
   "cell_type": "code",
   "execution_count": 253,
   "metadata": {
    "collapsed": false
   },
   "outputs": [
    {
     "data": {
      "text/plain": [
       "[<matplotlib.text.Text at 0x15464fbd0>,\n",
       " <matplotlib.text.Text at 0x154664d10>,\n",
       " <matplotlib.text.Text at 0x14a574150>]"
      ]
     },
     "execution_count": 253,
     "metadata": {},
     "output_type": "execute_result"
    },
    {
     "data": {
      "image/png": "[encoded data removed]",
      "text/plain": [
       "<matplotlib.figure.Figure at 0x157124710>"
      ]
     },
     "metadata": {},
     "output_type": "display_data"
    }
   ],
   "source": [
    "rc={'xtick.labelsize': 25, 'ytick.labelsize': 25, 'axes.labelsize': 25, 'font.size': 25, 'legend.fontsize': 25.0, 'axes.titlesize': 25, \"figure.figsize\": [20, 10]}\n",
    "sns.set(rc)\n",
    "#sns.set_palette(sns.light_palette(\"green\", n_colors = 14))\n",
    "sns.set_palette(sns.cubehelix_palette(13, start=.1, rot=-.4))\n",
    "g = sns.barplot(x = \"dev_country\", y = \"real_rate\", data = ds_hourly_with_payment_hours,\n",
    "                order = mean_hourly_rate_ds[\"dev_country\"])\n",
    "plt.xticks(rotation=90)\n",
    "g.set(xlabel = \"Country\", ylabel = \"Mean Hourly Rate\", title = \"Hourly Rates by Country\")\n",
    "#plt.savefig(\"hourly_rate_country.png\", bbox_inches='tight', dpi = 115)"
   ]
  },
  {
   "cell_type": "markdown",
   "metadata": {},
   "source": [
    "## Actual Billing Rates by Education"
   ]
  },
  {
   "cell_type": "code",
   "execution_count": 158,
   "metadata": {
    "collapsed": true
   },
   "outputs": [],
   "source": [
    "with open(\"highest_degree.pkl\", 'r') as picklefile: \n",
    "    highest_degree = pickle.load(picklefile)"
   ]
  },
  {
   "cell_type": "code",
   "execution_count": 159,
   "metadata": {
    "collapsed": true
   },
   "outputs": [],
   "source": [
    "assignments_with_education = assignments_with_country.merge(highest_degree, how = \"left\")"
   ]
  },
  {
   "cell_type": "markdown",
   "metadata": {},
   "source": [
    "#### Number of degrees for whole population"
   ]
  },
  {
   "cell_type": "code",
   "execution_count": 279,
   "metadata": {
    "collapsed": false
   },
   "outputs": [
    {
     "data": {
      "text/plain": [
       "21603"
      ]
     },
     "execution_count": 279,
     "metadata": {},
     "output_type": "execute_result"
    }
   ],
   "source": [
    "len(profiles_billing)"
   ]
  },
  {
   "cell_type": "code",
   "execution_count": 278,
   "metadata": {
    "collapsed": false
   },
   "outputs": [
    {
     "data": {
      "text/html": [
       "<div>\n",
       "<table border=\"1\" class=\"dataframe\">\n",
       "  <thead>\n",
       "    <tr style=\"text-align: right;\">\n",
       "      <th></th>\n",
       "      <th>Degree</th>\n",
       "      <th>Num_of_Freelancers</th>\n",
       "    </tr>\n",
       "  </thead>\n",
       "  <tbody>\n",
       "    <tr>\n",
       "      <th>0</th>\n",
       "      <td></td>\n",
       "      <td>10834</td>\n",
       "    </tr>\n",
       "    <tr>\n",
       "      <th>1</th>\n",
       "      <td>Associates</td>\n",
       "      <td>1025</td>\n",
       "    </tr>\n",
       "    <tr>\n",
       "      <th>2</th>\n",
       "      <td>Bachelors</td>\n",
       "      <td>35995</td>\n",
       "    </tr>\n",
       "    <tr>\n",
       "      <th>3</th>\n",
       "      <td>High School</td>\n",
       "      <td>1110</td>\n",
       "    </tr>\n",
       "    <tr>\n",
       "      <th>4</th>\n",
       "      <td>JD</td>\n",
       "      <td>60</td>\n",
       "    </tr>\n",
       "    <tr>\n",
       "      <th>5</th>\n",
       "      <td>MBA</td>\n",
       "      <td>62</td>\n",
       "    </tr>\n",
       "    <tr>\n",
       "      <th>6</th>\n",
       "      <td>MD</td>\n",
       "      <td>153</td>\n",
       "    </tr>\n",
       "    <tr>\n",
       "      <th>7</th>\n",
       "      <td>Masters</td>\n",
       "      <td>26071</td>\n",
       "    </tr>\n",
       "    <tr>\n",
       "      <th>8</th>\n",
       "      <td>PhD</td>\n",
       "      <td>3619</td>\n",
       "    </tr>\n",
       "    <tr>\n",
       "      <th>9</th>\n",
       "      <td>other</td>\n",
       "      <td>931</td>\n",
       "    </tr>\n",
       "  </tbody>\n",
       "</table>\n",
       "</div>"
      ],
      "text/plain": [
       "        Degree  Num_of_Freelancers\n",
       "0                            10834\n",
       "1   Associates                1025\n",
       "2    Bachelors               35995\n",
       "3  High School                1110\n",
       "4           JD                  60\n",
       "5          MBA                  62\n",
       "6           MD                 153\n",
       "7      Masters               26071\n",
       "8          PhD                3619\n",
       "9        other                 931"
      ]
     },
     "execution_count": 278,
     "metadata": {},
     "output_type": "execute_result"
    }
   ],
   "source": [
    "highest_degree_count_all = highest_degree.groupby([\"degrees_ranked\"]).agg(\"count\").reset_index()\n",
    "highest_degree_count_all.columns = [\"Degree\", \"Num_of_Freelancers\"]\n",
    "highest_degree_count_all\n",
    "#popular_countries_ds = country_count_ds[country_count_ds[\"Num_of_Freelancers\"] > 175]"
   ]
  },
  {
   "cell_type": "code",
   "execution_count": 164,
   "metadata": {
    "collapsed": false
   },
   "outputs": [
    {
     "name": "stderr",
     "output_type": "stream",
     "text": [
      "/anaconda/lib/python2.7/site-packages/ipykernel/__main__.py:5: SettingWithCopyWarning: \n",
      "A value is trying to be set on a copy of a slice from a DataFrame.\n",
      "Try using .loc[row_indexer,col_indexer] = value instead\n",
      "\n",
      "See the caveats in the documentation: http://pandas.pydata.org/pandas-docs/stable/indexing.html#indexing-view-versus-copy\n",
      "/anaconda/lib/python2.7/site-packages/ipykernel/__main__.py:6: SettingWithCopyWarning: \n",
      "A value is trying to be set on a copy of a slice from a DataFrame.\n",
      "Try using .loc[row_indexer,col_indexer] = value instead\n",
      "\n",
      "See the caveats in the documentation: http://pandas.pydata.org/pandas-docs/stable/indexing.html#indexing-view-versus-copy\n",
      "/anaconda/lib/python2.7/site-packages/ipykernel/__main__.py:7: SettingWithCopyWarning: \n",
      "A value is trying to be set on a copy of a slice from a DataFrame.\n",
      "Try using .loc[row_indexer,col_indexer] = value instead\n",
      "\n",
      "See the caveats in the documentation: http://pandas.pydata.org/pandas-docs/stable/indexing.html#indexing-view-versus-copy\n",
      "/anaconda/lib/python2.7/site-packages/ipykernel/__main__.py:9: SettingWithCopyWarning: \n",
      "A value is trying to be set on a copy of a slice from a DataFrame.\n",
      "Try using .loc[row_indexer,col_indexer] = value instead\n",
      "\n",
      "See the caveats in the documentation: http://pandas.pydata.org/pandas-docs/stable/indexing.html#indexing-view-versus-copy\n",
      "/anaconda/lib/python2.7/site-packages/ipykernel/__main__.py:10: SettingWithCopyWarning: \n",
      "A value is trying to be set on a copy of a slice from a DataFrame.\n",
      "Try using .loc[row_indexer,col_indexer] = value instead\n",
      "\n",
      "See the caveats in the documentation: http://pandas.pydata.org/pandas-docs/stable/indexing.html#indexing-view-versus-copy\n",
      "/anaconda/lib/python2.7/site-packages/ipykernel/__main__.py:11: SettingWithCopyWarning: \n",
      "A value is trying to be set on a copy of a slice from a DataFrame.\n",
      "Try using .loc[row_indexer,col_indexer] = value instead\n",
      "\n",
      "See the caveats in the documentation: http://pandas.pydata.org/pandas-docs/stable/indexing.html#indexing-view-versus-copy\n"
     ]
    }
   ],
   "source": [
    "ds_jobs = assignments_with_education[assignments_with_education[\"ds_job\"] == 1]\n",
    "ds_hourly_with_payment = ds_jobs[(pd.isnull(ds_jobs[\"as_total_charge\"]) == False) & (ds_jobs[\"as_job_type\"] == \"Hourly\")]\n",
    "ds_per_hourly_with_payment = float(len(ds_hourly_with_payment))/len(ds_jobs[ds_jobs[\"as_job_type\"] == \"Hourly\"])\n",
    "ds_per_hourly_with_payment = \"%.2f\" %ds_per_hourly_with_payment\n",
    "ds_hourly_with_payment[\"as_total_charge\"] = ds_hourly_with_payment[\"as_total_charge\"].apply(lambda x: float(x))\n",
    "ds_hourly_with_payment[\"as_total_hours_precise\"] = ds_hourly_with_payment[\"as_total_hours_precise\"].apply(lambda x: float(x))\n",
    "ds_hourly_with_payment[\"as_total_charge\"] = ds_hourly_with_payment[\"as_total_charge\"].apply(lambda x: float(x))\n",
    "ds_hourly_with_payment_hours = ds_hourly_with_payment[ds_hourly_with_payment[\"as_total_hours_precise\"] != 0]\n",
    "ds_hourly_with_payment_hours[\"real_rate\"] = ds_hourly_with_payment_hours[\"as_total_charge\"]/ds_hourly_with_payment_hours[\"as_total_hours_precise\"]\n",
    "ds_hourly_with_payment_hours[\"as_rate\"] = ds_hourly_with_payment_hours[\"as_rate\"].apply(lambda x: x.replace(\"$\", \"\"))\n",
    "ds_hourly_with_payment_hours[\"as_rate\"] = ds_hourly_with_payment_hours[\"as_rate\"].apply(lambda x: float(x))"
   ]
  },
  {
   "cell_type": "code",
   "execution_count": 167,
   "metadata": {
    "collapsed": false
   },
   "outputs": [],
   "source": [
    "mean_hourly_rate_ds_ed = ds_hourly_with_payment_hours[[\"real_rate\", \"degrees_ranked\"]].groupby(\"degrees_ranked\").mean().reset_index()\n",
    "mean_hourly_rate_ds_ed.sort_values(\"real_rate\", inplace = True)"
   ]
  },
  {
   "cell_type": "code",
   "execution_count": 191,
   "metadata": {
    "collapsed": true
   },
   "outputs": [],
   "source": [
    "mean_hourly_without_d = without_non_degrees[[\"real_rate\", \"degrees_ranked\"]].groupby(\"degrees_ranked\").mean().reset_index()\n",
    "mean_hourly_without_d .sort_values(\"real_rate\", inplace = True)"
   ]
  },
  {
   "cell_type": "code",
   "execution_count": 195,
   "metadata": {
    "collapsed": false
   },
   "outputs": [
    {
     "data": {
      "text/html": [
       "<div>\n",
       "<table border=\"1\" class=\"dataframe\">\n",
       "  <thead>\n",
       "    <tr style=\"text-align: right;\">\n",
       "      <th></th>\n",
       "      <th>Degree</th>\n",
       "      <th>Num_of_Freelancers</th>\n",
       "    </tr>\n",
       "  </thead>\n",
       "  <tbody>\n",
       "    <tr>\n",
       "      <th>0</th>\n",
       "      <td></td>\n",
       "      <td>1741</td>\n",
       "    </tr>\n",
       "    <tr>\n",
       "      <th>1</th>\n",
       "      <td>Associates</td>\n",
       "      <td>281</td>\n",
       "    </tr>\n",
       "    <tr>\n",
       "      <th>2</th>\n",
       "      <td>Bachelors</td>\n",
       "      <td>18688</td>\n",
       "    </tr>\n",
       "    <tr>\n",
       "      <th>3</th>\n",
       "      <td>High School</td>\n",
       "      <td>925</td>\n",
       "    </tr>\n",
       "    <tr>\n",
       "      <th>4</th>\n",
       "      <td>JD</td>\n",
       "      <td>6</td>\n",
       "    </tr>\n",
       "    <tr>\n",
       "      <th>5</th>\n",
       "      <td>MBA</td>\n",
       "      <td>22</td>\n",
       "    </tr>\n",
       "    <tr>\n",
       "      <th>6</th>\n",
       "      <td>MD</td>\n",
       "      <td>13</td>\n",
       "    </tr>\n",
       "    <tr>\n",
       "      <th>7</th>\n",
       "      <td>Masters</td>\n",
       "      <td>10814</td>\n",
       "    </tr>\n",
       "    <tr>\n",
       "      <th>8</th>\n",
       "      <td>PhD</td>\n",
       "      <td>1047</td>\n",
       "    </tr>\n",
       "    <tr>\n",
       "      <th>9</th>\n",
       "      <td>other</td>\n",
       "      <td>522</td>\n",
       "    </tr>\n",
       "  </tbody>\n",
       "</table>\n",
       "</div>"
      ],
      "text/plain": [
       "        Degree  Num_of_Freelancers\n",
       "0                             1741\n",
       "1   Associates                 281\n",
       "2    Bachelors               18688\n",
       "3  High School                 925\n",
       "4           JD                   6\n",
       "5          MBA                  22\n",
       "6           MD                  13\n",
       "7      Masters               10814\n",
       "8          PhD                1047\n",
       "9        other                 522"
      ]
     },
     "execution_count": 195,
     "metadata": {},
     "output_type": "execute_result"
    }
   ],
   "source": [
    "highest_degree_count = ds_hourly_with_payment_hours[[\"ciphertext\", \"degrees_ranked\"]].groupby([\"degrees_ranked\"]).agg(\"count\").reset_index()\n",
    "highest_degree_count.columns = [\"Degree\", \"Num_of_Freelancers\"]\n",
    "highest_degree_count\n",
    "#popular_countries_ds = country_count_ds[country_count_ds[\"Num_of_Freelancers\"] > 175]"
   ]
  },
  {
   "cell_type": "code",
   "execution_count": 249,
   "metadata": {
    "collapsed": false
   },
   "outputs": [
    {
     "data": {
      "image/png": "[encoded data removed]",
      "text/plain": [
       "<matplotlib.figure.Figure at 0x14a09c7d0>"
      ]
     },
     "metadata": {},
     "output_type": "display_data"
    }
   ],
   "source": [
    "without_non_degrees = ds_hourly_with_payment_hours[ds_hourly_with_payment_hours[\"degrees_ranked\"].isin([\"High School\", \"Associates\", \"Bachelors\", \"Masters\", \"PhD\"])]\n",
    "sns.set_palette(sns.hls_palette(5, l=.49, s=.5))\n",
    "g = sns.barplot(x = \"degrees_ranked\", y = \"real_rate\", data = without_non_degrees,\n",
    "                order = mean_hourly_without_d[\"degrees_ranked\"])\n",
    "plt.xticks(rotation=90)\n",
    "plt.ylim(0, 37)\n",
    "g.set(xlabel = \"Highest Degree\", ylabel = \"Mean Billing Rate\", title = \"Hourly Rate by Highest Degree\")\n",
    "plt.savefig(\"hourly_rate_education.png\", bbox_inches='tight', dpi = 115)"
   ]
  },
  {
   "cell_type": "markdown",
   "metadata": {},
   "source": [
    "## Look for bias whether job information public: are people with higher rates listed less likely to disclose job rates?"
   ]
  },
  {
   "cell_type": "code",
   "execution_count": 169,
   "metadata": {
    "collapsed": false
   },
   "outputs": [
    {
     "data": {
      "text/html": [
       "<div>\n",
       "<table border=\"1\" class=\"dataframe\">\n",
       "  <thead>\n",
       "    <tr style=\"text-align: right;\">\n",
       "      <th></th>\n",
       "      <th>ciphertext</th>\n",
       "      <th>assignments_paid</th>\n",
       "      <th>assignments_not_paid</th>\n",
       "    </tr>\n",
       "  </thead>\n",
       "  <tbody>\n",
       "    <tr>\n",
       "      <th>0</th>\n",
       "      <td>~010008b64f761401e8</td>\n",
       "      <td>1.0</td>\n",
       "      <td>0.0</td>\n",
       "    </tr>\n",
       "    <tr>\n",
       "      <th>4</th>\n",
       "      <td>~0100173b4909683674</td>\n",
       "      <td>1.0</td>\n",
       "      <td>0.0</td>\n",
       "    </tr>\n",
       "    <tr>\n",
       "      <th>6</th>\n",
       "      <td>~010019bdf5dae46b32</td>\n",
       "      <td>2.0</td>\n",
       "      <td>0.0</td>\n",
       "    </tr>\n",
       "    <tr>\n",
       "      <th>9</th>\n",
       "      <td>~0100215bc55f405db5</td>\n",
       "      <td>7.0</td>\n",
       "      <td>0.0</td>\n",
       "    </tr>\n",
       "    <tr>\n",
       "      <th>11</th>\n",
       "      <td>~0100436fc8138df378</td>\n",
       "      <td>1.0</td>\n",
       "      <td>0.0</td>\n",
       "    </tr>\n",
       "  </tbody>\n",
       "</table>\n",
       "</div>"
      ],
      "text/plain": [
       "             ciphertext  assignments_paid  assignments_not_paid\n",
       "0   ~010008b64f761401e8               1.0                   0.0\n",
       "4   ~0100173b4909683674               1.0                   0.0\n",
       "6   ~010019bdf5dae46b32               2.0                   0.0\n",
       "9   ~0100215bc55f405db5               7.0                   0.0\n",
       "11  ~0100436fc8138df378               1.0                   0.0"
      ]
     },
     "execution_count": 169,
     "metadata": {},
     "output_type": "execute_result"
    }
   ],
   "source": [
    "always_had_payment_info.head()"
   ]
  },
  {
   "cell_type": "code",
   "execution_count": 172,
   "metadata": {
    "collapsed": false
   },
   "outputs": [],
   "source": [
    "prof_never_payment_info = never_had_payment_info[\"ciphertext\"]\n",
    "prof_always_payment_info = always_had_payment_info[\"ciphertext\"]"
   ]
  },
  {
   "cell_type": "code",
   "execution_count": 179,
   "metadata": {
    "collapsed": true
   },
   "outputs": [],
   "source": [
    "profiles_always_payment_info = profiles_billing[profiles_billing[\"ciphertext\"].isin(prof_always_payment_info)]\n",
    "profiles_never_payment_info = profiles_billing[profiles_billing[\"ciphertext\"].isin(prof_never_payment_info)]"
   ]
  },
  {
   "cell_type": "code",
   "execution_count": 185,
   "metadata": {
    "collapsed": false
   },
   "outputs": [
    {
     "name": "stdout",
     "output_type": "stream",
     "text": [
      "People who have never had assignment payment information public have a mean billing rate of 21.1870613563 while people who have always had their payment information rate public have a mean billing rate of 19.0492617925\n"
     ]
    }
   ],
   "source": [
    "print \"People who have never had assignment payment information public have a mean billing rate of \" + str(profiles_never_payment_info[\"dev_bill_rate\"].mean()) + \" while people who have always had their payment information rate public have a mean billing rate of \" + str(profiles_always_payment_info[\"dev_bill_rate\"].mean())"
   ]
  }
 ],
 "metadata": {
  "kernelspec": {
   "display_name": "Python 2",
   "language": "python",
   "name": "python2"
  },
  "language_info": {
   "codemirror_mode": {
    "name": "ipython",
    "version": 2
   },
   "file_extension": ".py",
   "mimetype": "text/x-python",
   "name": "python",
   "nbconvert_exporter": "python",
   "pygments_lexer": "ipython2",
   "version": "2.7.11"
  }
 },
 "nbformat": 4,
 "nbformat_minor": 0
}
