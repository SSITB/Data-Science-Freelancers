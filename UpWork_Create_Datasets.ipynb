{
 "cells": [
  {
   "cell_type": "markdown",
   "metadata": {},
   "source": [
    "## Create Two Tables: People and Assignments"
   ]
  },
  {
   "cell_type": "code",
   "execution_count": 95,
   "metadata": {
    "collapsed": false
   },
   "outputs": [],
   "source": [
    "cursor = db.final_profile_details.find({}, {\"assignments\": 1, \"ciphertext\": 1})"
   ]
  },
  {
   "cell_type": "code",
   "execution_count": 96,
   "metadata": {
    "collapsed": false
   },
   "outputs": [
    {
     "data": {
      "text/plain": [
       "97455"
      ]
     },
     "execution_count": 96,
     "metadata": {},
     "output_type": "execute_result"
    }
   ],
   "source": [
    "cursor.count()"
   ]
  },
  {
   "cell_type": "code",
   "execution_count": 12,
   "metadata": {
    "collapsed": true
   },
   "outputs": [],
   "source": [
    "import pandas as pd"
   ]
  },
  {
   "cell_type": "code",
   "execution_count": 97,
   "metadata": {
    "collapsed": false
   },
   "outputs": [],
   "source": [
    "df =pd.DataFrame(list(cursor))"
   ]
  },
  {
   "cell_type": "code",
   "execution_count": 98,
   "metadata": {
    "collapsed": false
   },
   "outputs": [
    {
     "data": {
      "text/plain": [
       "Index([u'_id', u'assignments', u'ciphertext'], dtype='object')"
      ]
     },
     "execution_count": 98,
     "metadata": {},
     "output_type": "execute_result"
    }
   ],
   "source": [
    "df.columns"
   ]
  },
  {
   "cell_type": "markdown",
   "metadata": {},
   "source": [
    "## Assignments "
   ]
  },
  {
   "cell_type": "code",
   "execution_count": 4,
   "metadata": {
    "collapsed": true
   },
   "outputs": [],
   "source": [
    "import pandas as pd"
   ]
  },
  {
   "cell_type": "code",
   "execution_count": 5,
   "metadata": {
    "collapsed": false
   },
   "outputs": [],
   "source": [
    "cursor = db.final_profile_details.find({}, {\"assignments\": 1, \"ciphertext\": 1})\n",
    "df =  pd.DataFrame(list(cursor))"
   ]
  },
  {
   "cell_type": "markdown",
   "metadata": {},
   "source": [
    "Separate fixed and hourly assignments"
   ]
  },
  {
   "cell_type": "code",
   "execution_count": 6,
   "metadata": {
    "collapsed": true
   },
   "outputs": [],
   "source": [
    "fixed_assignments = df[\"assignments\"].apply(lambda x: x[\"fp\"])\n",
    "hourly_assignments = df[\"assignments\"].apply(lambda x: x[\"hr\"])\n",
    "df[\"hourly_assignments\"] = hourly_assignments\n",
    "df[\"fixed_assignments\"] = fixed_assignments"
   ]
  },
  {
   "cell_type": "code",
   "execution_count": 7,
   "metadata": {
    "collapsed": false
   },
   "outputs": [],
   "source": [
    "h_assignments = pd.DataFrame()\n",
    "h_assignments[\"assignment\"] = hourly_assignments\n",
    "h_assignments[\"ciphertext\"] = df[\"ciphertext\"]\n",
    "h_assignments = h_assignments[h_assignments[\"assignment\"] != \"\"]"
   ]
  },
  {
   "cell_type": "code",
   "execution_count": 8,
   "metadata": {
    "collapsed": true
   },
   "outputs": [],
   "source": [
    "f_assignments = pd.DataFrame()\n",
    "f_assignments[\"assignment\"] = fixed_assignments\n",
    "f_assignments[\"ciphertext\"] = df[\"ciphertext\"]\n",
    "f_assignments = f_assignments[f_assignments[\"assignment\"] != \"\"]"
   ]
  },
  {
   "cell_type": "markdown",
   "metadata": {},
   "source": [
    "Unnest assignments"
   ]
  },
  {
   "cell_type": "code",
   "execution_count": 9,
   "metadata": {
    "collapsed": true
   },
   "outputs": [],
   "source": [
    "def unnest_anything(df, target, sub_target):  \n",
    "    # initialize new dataset\n",
    "    nd = pd.DataFrame.from_dict(df[target][1])\n",
    "    nd[\"ciphertext\"] = \"lksjdflkj\"\n",
    "    for index, row in df.iterrows():\n",
    "        # if the person has it\n",
    "        if row[target]: \n",
    "            # if person has multiple, put each in own row\n",
    "            if type(row[target][sub_target]) == list: \n",
    "                td = pd.DataFrame.from_dict(row[target])\n",
    "                td[\"ciphertext\"] = row[\"ciphertext\"]  \n",
    "                nd = pd.concat([nd, td], ignore_index=True)\n",
    "            # if person has one, keep the same\n",
    "            else: \n",
    "                td = pd.DataFrame(index = [0], columns = [sub_target, \"ciphertext\"])\n",
    "                td = td.set_value(0, 'ciphertext', row[\"ciphertext\"])\n",
    "                td = td.set_value(0, sub_target, row[target][sub_target])\n",
    "                nd = pd.concat([nd, td], ignore_index=True)\n",
    "    return nd"
   ]
  },
  {
   "cell_type": "code",
   "execution_count": 10,
   "metadata": {
    "collapsed": false
   },
   "outputs": [],
   "source": [
    "hourly_partially_unnested = unnest_anything(h_assignments, \"assignment\", \"job\")"
   ]
  },
  {
   "cell_type": "code",
   "execution_count": 124,
   "metadata": {
    "collapsed": true
   },
   "outputs": [],
   "source": [
    "def finish_unnesting_assignments(df, target):      \n",
    "    new_df = pd.DataFrame()\n",
    "    for key in df[target].iloc[11].keys(): \n",
    "        key_values = df[target].apply(lambda x: x.get(key))\n",
    "        new_df[key] = key_values\n",
    "    new_df[\"ciphertext\"] = df[\"ciphertext\"]\n",
    "    return new_df"
   ]
  },
  {
   "cell_type": "code",
   "execution_count": 125,
   "metadata": {
    "collapsed": false
   },
   "outputs": [],
   "source": [
    "hourly_completely_unnested = finish_unnesting_assignments(hourly_partially_unnested, \"job\")\n",
    "fixed_partially_unnested = unnest_anything(f_assignments, \"assignment\", \"job\")\n",
    "fixed_completely_unnested = finish_unnesting_assignments(fixed_partially_unnested, \"job\")"
   ]
  },
  {
   "cell_type": "code",
   "execution_count": 128,
   "metadata": {
    "collapsed": false
   },
   "outputs": [
    {
     "data": {
      "text/plain": [
       "249092"
      ]
     },
     "execution_count": 128,
     "metadata": {},
     "output_type": "execute_result"
    }
   ],
   "source": [
    "assignments_unnested = pd.concat([fixed_completely_unnested, hourly_completely_unnested])\n",
    "assignments_unnested = assignments_unnested[assignments_unnested[\"ciphertext\"] != \"lksjdflkj\"]\n",
    "len(assignments_unnested)"
   ]
  },
  {
   "cell_type": "code",
   "execution_count": 66,
   "metadata": {
    "collapsed": true
   },
   "outputs": [],
   "source": [
    "import pickle"
   ]
  },
  {
   "cell_type": "code",
   "execution_count": 172,
   "metadata": {
    "collapsed": true
   },
   "outputs": [],
   "source": [
    "# drop any duplicates\n",
    "assignments_unnested = pd.DataFrame.drop_duplicates(assignments_unnested)"
   ]
  },
  {
   "cell_type": "code",
   "execution_count": 174,
   "metadata": {
    "collapsed": false
   },
   "outputs": [],
   "source": [
    "with open('assignments.pkl', 'w') as picklefile:\n",
    "    pickle.dump(assignments_unnested, picklefile)"
   ]
  },
  {
   "cell_type": "markdown",
   "metadata": {},
   "source": [
    "### Check how many jobs don't have payment rate"
   ]
  },
  {
   "cell_type": "markdown",
   "metadata": {},
   "source": [
    "What percent of fixed assignments don't have a total charge?"
   ]
  },
  {
   "cell_type": "code",
   "execution_count": 117,
   "metadata": {
    "collapsed": false
   },
   "outputs": [
    {
     "data": {
      "text/plain": [
       "0.4132832721362788"
      ]
     },
     "execution_count": 117,
     "metadata": {},
     "output_type": "execute_result"
    }
   ],
   "source": [
    "float(pd.isnull(fixed_completely_unnested[\"as_total_charge\"]).sum())/len(fixed_completely_unnested)"
   ]
  },
  {
   "cell_type": "markdown",
   "metadata": {},
   "source": [
    "About 41% don't have a total charge"
   ]
  },
  {
   "cell_type": "markdown",
   "metadata": {},
   "source": [
    "How many hourly don't have a rate?"
   ]
  },
  {
   "cell_type": "code",
   "execution_count": 130,
   "metadata": {
    "collapsed": false
   },
   "outputs": [
    {
     "data": {
      "text/html": [
       "<div>\n",
       "<table border=\"1\" class=\"dataframe\">\n",
       "  <thead>\n",
       "    <tr style=\"text-align: right;\">\n",
       "      <th></th>\n",
       "      <th>as_to</th>\n",
       "      <th>as_rate</th>\n",
       "      <th>as_financial_privacy</th>\n",
       "      <th>as_total_hours</th>\n",
       "      <th>as_from_full</th>\n",
       "      <th>as_ciphertext_opening_recno</th>\n",
       "      <th>as_total_hours_precise</th>\n",
       "      <th>as_opening_title</th>\n",
       "      <th>as_job_type</th>\n",
       "      <th>as_to_full</th>\n",
       "      <th>as_agency_name</th>\n",
       "      <th>as_total_charge</th>\n",
       "      <th>ciphertext</th>\n",
       "    </tr>\n",
       "  </thead>\n",
       "  <tbody>\n",
       "    <tr>\n",
       "      <th>0</th>\n",
       "      <td>08/2016</td>\n",
       "      <td>None</td>\n",
       "      <td>None</td>\n",
       "      <td>3.00</td>\n",
       "      <td>None</td>\n",
       "      <td>None</td>\n",
       "      <td>3</td>\n",
       "      <td>Part2</td>\n",
       "      <td>Hourly</td>\n",
       "      <td>08/19/2016</td>\n",
       "      <td>None</td>\n",
       "      <td>None</td>\n",
       "      <td>lksjdflkj</td>\n",
       "    </tr>\n",
       "    <tr>\n",
       "      <th>1</th>\n",
       "      <td>07/2016</td>\n",
       "      <td>$40.00</td>\n",
       "      <td>None</td>\n",
       "      <td>3.67</td>\n",
       "      <td>None</td>\n",
       "      <td>None</td>\n",
       "      <td>3.66666667</td>\n",
       "      <td>Develop a model for providing a quantitative e...</td>\n",
       "      <td>Hourly</td>\n",
       "      <td>07/07/2016</td>\n",
       "      <td>None</td>\n",
       "      <td>40</td>\n",
       "      <td>lksjdflkj</td>\n",
       "    </tr>\n",
       "    <tr>\n",
       "      <th>2</th>\n",
       "      <td>08/2016</td>\n",
       "      <td>None</td>\n",
       "      <td>None</td>\n",
       "      <td>3.00</td>\n",
       "      <td>None</td>\n",
       "      <td>None</td>\n",
       "      <td>3</td>\n",
       "      <td>Part2</td>\n",
       "      <td>Hourly</td>\n",
       "      <td>08/19/2016</td>\n",
       "      <td>None</td>\n",
       "      <td>None</td>\n",
       "      <td>~01d3ad50155896e4ae</td>\n",
       "    </tr>\n",
       "    <tr>\n",
       "      <th>3</th>\n",
       "      <td>07/2016</td>\n",
       "      <td>$40.00</td>\n",
       "      <td>None</td>\n",
       "      <td>3.67</td>\n",
       "      <td>None</td>\n",
       "      <td>None</td>\n",
       "      <td>3.66666667</td>\n",
       "      <td>Develop a model for providing a quantitative e...</td>\n",
       "      <td>Hourly</td>\n",
       "      <td>07/07/2016</td>\n",
       "      <td>None</td>\n",
       "      <td>40</td>\n",
       "      <td>~01d3ad50155896e4ae</td>\n",
       "    </tr>\n",
       "    <tr>\n",
       "      <th>4</th>\n",
       "      <td>08/2016</td>\n",
       "      <td>None</td>\n",
       "      <td>None</td>\n",
       "      <td>3.00</td>\n",
       "      <td>None</td>\n",
       "      <td>None</td>\n",
       "      <td>3</td>\n",
       "      <td>Part2</td>\n",
       "      <td>Hourly</td>\n",
       "      <td>08/19/2016</td>\n",
       "      <td>None</td>\n",
       "      <td>None</td>\n",
       "      <td>~01d3ad50155896e4ae</td>\n",
       "    </tr>\n",
       "  </tbody>\n",
       "</table>\n",
       "</div>"
      ],
      "text/plain": [
       "     as_to as_rate as_financial_privacy as_total_hours as_from_full  \\\n",
       "0  08/2016    None                 None           3.00         None   \n",
       "1  07/2016  $40.00                 None           3.67         None   \n",
       "2  08/2016    None                 None           3.00         None   \n",
       "3  07/2016  $40.00                 None           3.67         None   \n",
       "4  08/2016    None                 None           3.00         None   \n",
       "\n",
       "  as_ciphertext_opening_recno as_total_hours_precise  \\\n",
       "0                        None                      3   \n",
       "1                        None             3.66666667   \n",
       "2                        None                      3   \n",
       "3                        None             3.66666667   \n",
       "4                        None                      3   \n",
       "\n",
       "                                    as_opening_title as_job_type  as_to_full  \\\n",
       "0                                              Part2      Hourly  08/19/2016   \n",
       "1  Develop a model for providing a quantitative e...      Hourly  07/07/2016   \n",
       "2                                              Part2      Hourly  08/19/2016   \n",
       "3  Develop a model for providing a quantitative e...      Hourly  07/07/2016   \n",
       "4                                              Part2      Hourly  08/19/2016   \n",
       "\n",
       "  as_agency_name as_total_charge           ciphertext  \n",
       "0           None            None            lksjdflkj  \n",
       "1           None              40            lksjdflkj  \n",
       "2           None            None  ~01d3ad50155896e4ae  \n",
       "3           None              40  ~01d3ad50155896e4ae  \n",
       "4           None            None  ~01d3ad50155896e4ae  "
      ]
     },
     "execution_count": 130,
     "metadata": {},
     "output_type": "execute_result"
    }
   ],
   "source": [
    "hourly_completely_unnested.head()"
   ]
  },
  {
   "cell_type": "code",
   "execution_count": 131,
   "metadata": {
    "collapsed": false
   },
   "outputs": [
    {
     "data": {
      "text/plain": [
       "0.4262280973527488"
      ]
     },
     "execution_count": 131,
     "metadata": {},
     "output_type": "execute_result"
    }
   ],
   "source": [
    "float(pd.isnull(hourly_completely_unnested[\"as_rate\"]).sum())/len(hourly_completely_unnested)"
   ]
  },
  {
   "cell_type": "markdown",
   "metadata": {},
   "source": [
    "About 42% don't have a rate"
   ]
  },
  {
   "cell_type": "markdown",
   "metadata": {},
   "source": [
    "## Getting Profile Dataset"
   ]
  },
  {
   "cell_type": "code",
   "execution_count": 80,
   "metadata": {
    "collapsed": false
   },
   "outputs": [],
   "source": [
    "ids_with_jobs = assignments_unnested[\"ciphertext\"].unique()"
   ]
  },
  {
   "cell_type": "code",
   "execution_count": 75,
   "metadata": {
    "collapsed": true
   },
   "outputs": [],
   "source": [
    "import numpy as np"
   ]
  },
  {
   "cell_type": "code",
   "execution_count": 82,
   "metadata": {
    "collapsed": false
   },
   "outputs": [],
   "source": [
    "ids_with_jobs = ids_with_jobs.tolist()"
   ]
  },
  {
   "cell_type": "code",
   "execution_count": 84,
   "metadata": {
    "collapsed": false
   },
   "outputs": [],
   "source": [
    "cursor = db.final_profile_details.find({\"ciphertext\": { \"$in\": ids_with_jobs}}, {\"assignments\": 0, \"dev_last_worked_ts\": 0,\n",
    "         \"dev_portrait\": 0, \"dev_portrait_100\": 0, \"dev_portrait_32\": 0, \"dev_portrait_50\": 0,\n",
    "          \"dev_timezone\": 0, \"permalink\": 0, \"ag_cny_recno\":0, \"ag_country\":0, \"ag_country_tz\":0,\n",
    "           \"ag_description\": 0, \"ag_logo\": 0, \"ag_name\": 0, \"ag_recent_hours\": 0, \n",
    "           \"ag_total_hours\": 0})"
   ]
  },
  {
   "cell_type": "code",
   "execution_count": 85,
   "metadata": {
    "collapsed": false
   },
   "outputs": [
    {
     "data": {
      "text/plain": [
       "21603"
      ]
     },
     "execution_count": 85,
     "metadata": {},
     "output_type": "execute_result"
    }
   ],
   "source": [
    "cursor.count()"
   ]
  },
  {
   "cell_type": "markdown",
   "metadata": {},
   "source": [
    "We're only interested right now in people who ever completed a job. "
   ]
  },
  {
   "cell_type": "code",
   "execution_count": 86,
   "metadata": {
    "collapsed": true
   },
   "outputs": [],
   "source": [
    "person_df =  pd.DataFrame(list(cursor))"
   ]
  },
  {
   "cell_type": "code",
   "execution_count": 150,
   "metadata": {
    "collapsed": false
   },
   "outputs": [
    {
     "data": {
      "text/html": [
       "<div>\n",
       "<table border=\"1\" class=\"dataframe\">\n",
       "  <thead>\n",
       "    <tr style=\"text-align: right;\">\n",
       "      <th></th>\n",
       "      <th>_id</th>\n",
       "      <th>agency_ciphertext</th>\n",
       "      <th>ciphertext</th>\n",
       "      <th>dev_ac_agencies</th>\n",
       "      <th>dev_adj_score</th>\n",
       "      <th>dev_adj_score_recent</th>\n",
       "      <th>dev_bill_rate</th>\n",
       "      <th>dev_billed_assignments</th>\n",
       "      <th>dev_blurb</th>\n",
       "      <th>dev_city</th>\n",
       "      <th>...</th>\n",
       "      <th>dev_tot_feedback</th>\n",
       "      <th>dev_total_hours</th>\n",
       "      <th>dev_ui_profile_access</th>\n",
       "      <th>education</th>\n",
       "      <th>experiences</th>\n",
       "      <th>job_categories</th>\n",
       "      <th>portfolio_items</th>\n",
       "      <th>portfolio_items_v2</th>\n",
       "      <th>skills</th>\n",
       "      <th>tsexams</th>\n",
       "    </tr>\n",
       "  </thead>\n",
       "  <tbody>\n",
       "    <tr>\n",
       "      <th>0</th>\n",
       "      <td>57c488aa97f6b341e8728c4d</td>\n",
       "      <td>NaN</td>\n",
       "      <td>~01d3ad50155896e4ae</td>\n",
       "      <td></td>\n",
       "      <td>5</td>\n",
       "      <td>5</td>\n",
       "      <td>35.00</td>\n",
       "      <td>8</td>\n",
       "      <td>Data Science Consultant specialising in statis...</td>\n",
       "      <td>Cork</td>\n",
       "      <td>...</td>\n",
       "      <td>6</td>\n",
       "      <td>6.66666667</td>\n",
       "      <td>oDesk Users only</td>\n",
       "      <td>{u'institution': [{u'ed_to': u'01/2014', u'ed_...</td>\n",
       "      <td>{u'experience': [{u'exp_from': u'09/2015', u'e...</td>\n",
       "      <td>NaN</td>\n",
       "      <td></td>\n",
       "      <td>NaN</td>\n",
       "      <td>{u'skill': [{u'skl_name': u'econometrics', u's...</td>\n",
       "      <td>{u'tsexam': [{u'ts_percentile': u'93', u'ts_du...</td>\n",
       "    </tr>\n",
       "    <tr>\n",
       "      <th>1</th>\n",
       "      <td>57c4890097f6b341e8728c4e</td>\n",
       "      <td>NaN</td>\n",
       "      <td>~01d3ad50155896e4ae</td>\n",
       "      <td></td>\n",
       "      <td>5</td>\n",
       "      <td>5</td>\n",
       "      <td>35.00</td>\n",
       "      <td>8</td>\n",
       "      <td>Data Science Consultant specialising in statis...</td>\n",
       "      <td>Cork</td>\n",
       "      <td>...</td>\n",
       "      <td>6</td>\n",
       "      <td>6.66666667</td>\n",
       "      <td>oDesk Users only</td>\n",
       "      <td>{u'institution': [{u'ed_to': u'01/2014', u'ed_...</td>\n",
       "      <td>{u'experience': [{u'exp_from': u'09/2015', u'e...</td>\n",
       "      <td>NaN</td>\n",
       "      <td></td>\n",
       "      <td>NaN</td>\n",
       "      <td>{u'skill': [{u'skl_name': u'econometrics', u's...</td>\n",
       "      <td>{u'tsexam': [{u'ts_percentile': u'93', u'ts_du...</td>\n",
       "    </tr>\n",
       "    <tr>\n",
       "      <th>2</th>\n",
       "      <td>57c4890297f6b341e8728c51</td>\n",
       "      <td>NaN</td>\n",
       "      <td>~0199f1742b3c7202ba</td>\n",
       "      <td></td>\n",
       "      <td>5</td>\n",
       "      <td>5</td>\n",
       "      <td>18.00</td>\n",
       "      <td>2</td>\n",
       "      <td>TECHNICAL SKILLS\\nMicrosoft Office: Word, Exce...</td>\n",
       "      <td>Tampa</td>\n",
       "      <td>...</td>\n",
       "      <td>2</td>\n",
       "      <td>91.50000001</td>\n",
       "      <td>Public</td>\n",
       "      <td>{u'institution': [{u'ed_to': u'01/2016', u'ed_...</td>\n",
       "      <td>{u'experience': {u'exp_from': u'06/2011', u'ex...</td>\n",
       "      <td>NaN</td>\n",
       "      <td></td>\n",
       "      <td>{u'portfolio_items_v': [{u'pi_large_thumbnail'...</td>\n",
       "      <td>{u'skill': [{u'skl_name': u'data-analysis', u'...</td>\n",
       "      <td>{u'tsexam': [{u'ts_percentile': u'84', u'ts_du...</td>\n",
       "    </tr>\n",
       "    <tr>\n",
       "      <th>3</th>\n",
       "      <td>57c4890397f6b341e8728c52</td>\n",
       "      <td>NaN</td>\n",
       "      <td>~010ee721f96dbeb744</td>\n",
       "      <td></td>\n",
       "      <td>4.9733793523</td>\n",
       "      <td>5</td>\n",
       "      <td>8.00</td>\n",
       "      <td>32</td>\n",
       "      <td>Talented, Well qualified and versatile profess...</td>\n",
       "      <td>Bangalore</td>\n",
       "      <td>...</td>\n",
       "      <td>20</td>\n",
       "      <td>422.4</td>\n",
       "      <td>Public</td>\n",
       "      <td>{u'institution': {u'ed_to': u'01/2012', u'ed_a...</td>\n",
       "      <td>{u'experience': {u'exp_from': u'03/2013', u'ex...</td>\n",
       "      <td>NaN</td>\n",
       "      <td>{u'portfolio_item': [{u'pi_large_thumbnail': u...</td>\n",
       "      <td>{u'portfolio_items_v': [{u'pi_large_thumbnail'...</td>\n",
       "      <td>{u'skill': [{u'skl_name': u'article-writing', ...</td>\n",
       "      <td>{u'tsexam': [{u'ts_percentile': u'65', u'ts_du...</td>\n",
       "    </tr>\n",
       "    <tr>\n",
       "      <th>4</th>\n",
       "      <td>57c4890397f6b341e8728c53</td>\n",
       "      <td>NaN</td>\n",
       "      <td>~0113b7a1ad10ba8634</td>\n",
       "      <td></td>\n",
       "      <td>5</td>\n",
       "      <td>5</td>\n",
       "      <td>25.00</td>\n",
       "      <td>1</td>\n",
       "      <td>I graduated this spring with a Master's in Mat...</td>\n",
       "      <td>Houston</td>\n",
       "      <td>...</td>\n",
       "      <td>1</td>\n",
       "      <td>7.33333333</td>\n",
       "      <td>Public</td>\n",
       "      <td>{u'institution': [{u'ed_to': u'01/2016', u'ed_...</td>\n",
       "      <td>{u'experience': [{u'exp_from': u'05/2015', u'e...</td>\n",
       "      <td>NaN</td>\n",
       "      <td></td>\n",
       "      <td>NaN</td>\n",
       "      <td>{u'skill': [{u'skl_name': u'apache-spark', u's...</td>\n",
       "      <td></td>\n",
       "    </tr>\n",
       "  </tbody>\n",
       "</table>\n",
       "<p>5 rows × 35 columns</p>\n",
       "</div>"
      ],
      "text/plain": [
       "                        _id agency_ciphertext           ciphertext  \\\n",
       "0  57c488aa97f6b341e8728c4d               NaN  ~01d3ad50155896e4ae   \n",
       "1  57c4890097f6b341e8728c4e               NaN  ~01d3ad50155896e4ae   \n",
       "2  57c4890297f6b341e8728c51               NaN  ~0199f1742b3c7202ba   \n",
       "3  57c4890397f6b341e8728c52               NaN  ~010ee721f96dbeb744   \n",
       "4  57c4890397f6b341e8728c53               NaN  ~0113b7a1ad10ba8634   \n",
       "\n",
       "  dev_ac_agencies dev_adj_score dev_adj_score_recent dev_bill_rate  \\\n",
       "0                             5                    5         35.00   \n",
       "1                             5                    5         35.00   \n",
       "2                             5                    5         18.00   \n",
       "3                  4.9733793523                    5          8.00   \n",
       "4                             5                    5         25.00   \n",
       "\n",
       "  dev_billed_assignments                                          dev_blurb  \\\n",
       "0                      8  Data Science Consultant specialising in statis...   \n",
       "1                      8  Data Science Consultant specialising in statis...   \n",
       "2                      2  TECHNICAL SKILLS\\nMicrosoft Office: Word, Exce...   \n",
       "3                     32  Talented, Well qualified and versatile profess...   \n",
       "4                      1  I graduated this spring with a Master's in Mat...   \n",
       "\n",
       "    dev_city                        ...                          \\\n",
       "0       Cork                        ...                           \n",
       "1       Cork                        ...                           \n",
       "2      Tampa                        ...                           \n",
       "3  Bangalore                        ...                           \n",
       "4    Houston                        ...                           \n",
       "\n",
       "  dev_tot_feedback dev_total_hours dev_ui_profile_access  \\\n",
       "0                6      6.66666667      oDesk Users only   \n",
       "1                6      6.66666667      oDesk Users only   \n",
       "2                2     91.50000001                Public   \n",
       "3               20           422.4                Public   \n",
       "4                1      7.33333333                Public   \n",
       "\n",
       "                                           education  \\\n",
       "0  {u'institution': [{u'ed_to': u'01/2014', u'ed_...   \n",
       "1  {u'institution': [{u'ed_to': u'01/2014', u'ed_...   \n",
       "2  {u'institution': [{u'ed_to': u'01/2016', u'ed_...   \n",
       "3  {u'institution': {u'ed_to': u'01/2012', u'ed_a...   \n",
       "4  {u'institution': [{u'ed_to': u'01/2016', u'ed_...   \n",
       "\n",
       "                                         experiences job_categories  \\\n",
       "0  {u'experience': [{u'exp_from': u'09/2015', u'e...            NaN   \n",
       "1  {u'experience': [{u'exp_from': u'09/2015', u'e...            NaN   \n",
       "2  {u'experience': {u'exp_from': u'06/2011', u'ex...            NaN   \n",
       "3  {u'experience': {u'exp_from': u'03/2013', u'ex...            NaN   \n",
       "4  {u'experience': [{u'exp_from': u'05/2015', u'e...            NaN   \n",
       "\n",
       "                                     portfolio_items  \\\n",
       "0                                                      \n",
       "1                                                      \n",
       "2                                                      \n",
       "3  {u'portfolio_item': [{u'pi_large_thumbnail': u...   \n",
       "4                                                      \n",
       "\n",
       "                                  portfolio_items_v2  \\\n",
       "0                                                NaN   \n",
       "1                                                NaN   \n",
       "2  {u'portfolio_items_v': [{u'pi_large_thumbnail'...   \n",
       "3  {u'portfolio_items_v': [{u'pi_large_thumbnail'...   \n",
       "4                                                NaN   \n",
       "\n",
       "                                              skills  \\\n",
       "0  {u'skill': [{u'skl_name': u'econometrics', u's...   \n",
       "1  {u'skill': [{u'skl_name': u'econometrics', u's...   \n",
       "2  {u'skill': [{u'skl_name': u'data-analysis', u'...   \n",
       "3  {u'skill': [{u'skl_name': u'article-writing', ...   \n",
       "4  {u'skill': [{u'skl_name': u'apache-spark', u's...   \n",
       "\n",
       "                                             tsexams  \n",
       "0  {u'tsexam': [{u'ts_percentile': u'93', u'ts_du...  \n",
       "1  {u'tsexam': [{u'ts_percentile': u'93', u'ts_du...  \n",
       "2  {u'tsexam': [{u'ts_percentile': u'84', u'ts_du...  \n",
       "3  {u'tsexam': [{u'ts_percentile': u'65', u'ts_du...  \n",
       "4                                                     \n",
       "\n",
       "[5 rows x 35 columns]"
      ]
     },
     "execution_count": 150,
     "metadata": {},
     "output_type": "execute_result"
    }
   ],
   "source": [
    "person_df.head()"
   ]
  },
  {
   "cell_type": "code",
   "execution_count": 153,
   "metadata": {
    "collapsed": false
   },
   "outputs": [],
   "source": [
    "person_df_lim = person_df.drop([\"skills\", \"tsexams\", \"experiences\", \"education\"], axis = 1)"
   ]
  },
  {
   "cell_type": "code",
   "execution_count": 198,
   "metadata": {
    "collapsed": true
   },
   "outputs": [],
   "source": [
    "pd.set_option('max_columns',50)"
   ]
  },
  {
   "cell_type": "code",
   "execution_count": 199,
   "metadata": {
    "collapsed": false
   },
   "outputs": [
    {
     "data": {
      "text/html": [
       "<div>\n",
       "<table border=\"1\" class=\"dataframe\">\n",
       "  <thead>\n",
       "    <tr style=\"text-align: right;\">\n",
       "      <th></th>\n",
       "      <th>_id</th>\n",
       "      <th>agency_ciphertext</th>\n",
       "      <th>ciphertext</th>\n",
       "      <th>dev_ac_agencies</th>\n",
       "      <th>dev_adj_score</th>\n",
       "      <th>dev_adj_score_recent</th>\n",
       "      <th>dev_bill_rate</th>\n",
       "      <th>dev_billed_assignments</th>\n",
       "      <th>dev_blurb</th>\n",
       "      <th>dev_city</th>\n",
       "      <th>dev_country</th>\n",
       "      <th>dev_eng_skill</th>\n",
       "      <th>dev_first_name</th>\n",
       "      <th>dev_groups</th>\n",
       "      <th>dev_is_affiliated</th>\n",
       "      <th>dev_job_categories_v2</th>\n",
       "      <th>dev_last_activity</th>\n",
       "      <th>dev_last_name</th>\n",
       "      <th>dev_last_worked</th>\n",
       "      <th>dev_portfolio_items_count</th>\n",
       "      <th>dev_portfolio_items_v2_count</th>\n",
       "      <th>dev_profile_title</th>\n",
       "      <th>dev_recno</th>\n",
       "      <th>dev_recno_ciphertext</th>\n",
       "      <th>dev_short_name</th>\n",
       "      <th>dev_tot_feedback</th>\n",
       "      <th>dev_total_hours</th>\n",
       "      <th>dev_ui_profile_access</th>\n",
       "      <th>job_categories</th>\n",
       "      <th>portfolio_items</th>\n",
       "      <th>portfolio_items_v2</th>\n",
       "    </tr>\n",
       "  </thead>\n",
       "  <tbody>\n",
       "    <tr>\n",
       "      <th>0</th>\n",
       "      <td>57c488aa97f6b341e8728c4d</td>\n",
       "      <td>NaN</td>\n",
       "      <td>~01d3ad50155896e4ae</td>\n",
       "      <td></td>\n",
       "      <td>5</td>\n",
       "      <td>5</td>\n",
       "      <td>35.00</td>\n",
       "      <td>8</td>\n",
       "      <td>Data Science Consultant specialising in statis...</td>\n",
       "      <td>Cork</td>\n",
       "      <td>Ireland</td>\n",
       "      <td>5</td>\n",
       "      <td>Michael</td>\n",
       "      <td></td>\n",
       "      <td>0</td>\n",
       "      <td>{u'dev_job_categories_v': [{u'name': u'Data Vi...</td>\n",
       "      <td>August 15, 2016</td>\n",
       "      <td>Grogan</td>\n",
       "      <td>August 15, 2016</td>\n",
       "      <td>0</td>\n",
       "      <td>0</td>\n",
       "      <td>Data Science and Statistics Consultant | Pytho...</td>\n",
       "      <td>7766913</td>\n",
       "      <td>~01d3ad50155896e4ae</td>\n",
       "      <td>Michael Grogan</td>\n",
       "      <td>6</td>\n",
       "      <td>6.66666667</td>\n",
       "      <td>oDesk Users only</td>\n",
       "      <td>NaN</td>\n",
       "      <td></td>\n",
       "      <td>NaN</td>\n",
       "    </tr>\n",
       "    <tr>\n",
       "      <th>2</th>\n",
       "      <td>57c4890297f6b341e8728c51</td>\n",
       "      <td>NaN</td>\n",
       "      <td>~0199f1742b3c7202ba</td>\n",
       "      <td></td>\n",
       "      <td>5</td>\n",
       "      <td>5</td>\n",
       "      <td>18.00</td>\n",
       "      <td>2</td>\n",
       "      <td>TECHNICAL SKILLS\\nMicrosoft Office: Word, Exce...</td>\n",
       "      <td>Tampa</td>\n",
       "      <td>United States</td>\n",
       "      <td></td>\n",
       "      <td>Thu</td>\n",
       "      <td></td>\n",
       "      <td>0</td>\n",
       "      <td>{u'dev_job_categories_v': [{u'name': u'Project...</td>\n",
       "      <td>August 2, 2016</td>\n",
       "      <td>Nguyen</td>\n",
       "      <td>June 12, 2016</td>\n",
       "      <td>0</td>\n",
       "      <td>2</td>\n",
       "      <td>Data Science Analytic</td>\n",
       "      <td>11492831</td>\n",
       "      <td>~0199f1742b3c7202ba</td>\n",
       "      <td>Thu Nguyen</td>\n",
       "      <td>2</td>\n",
       "      <td>91.50000001</td>\n",
       "      <td>Public</td>\n",
       "      <td>NaN</td>\n",
       "      <td></td>\n",
       "      <td>{u'portfolio_items_v': [{u'pi_large_thumbnail'...</td>\n",
       "    </tr>\n",
       "    <tr>\n",
       "      <th>3</th>\n",
       "      <td>57c4890397f6b341e8728c52</td>\n",
       "      <td>NaN</td>\n",
       "      <td>~010ee721f96dbeb744</td>\n",
       "      <td></td>\n",
       "      <td>4.9733793523</td>\n",
       "      <td>5</td>\n",
       "      <td>8.00</td>\n",
       "      <td>32</td>\n",
       "      <td>Talented, Well qualified and versatile profess...</td>\n",
       "      <td>Bangalore</td>\n",
       "      <td>India</td>\n",
       "      <td>5</td>\n",
       "      <td>Keerthi</td>\n",
       "      <td></td>\n",
       "      <td>0</td>\n",
       "      <td>{u'dev_job_categories_v': [{u'name': u'Present...</td>\n",
       "      <td>August 29, 2016</td>\n",
       "      <td></td>\n",
       "      <td>August 29, 2016</td>\n",
       "      <td>5</td>\n",
       "      <td>5</td>\n",
       "      <td>Analytics Consulting, Data Science</td>\n",
       "      <td>3844505</td>\n",
       "      <td>~010ee721f96dbeb744</td>\n",
       "      <td>Keerthi E.</td>\n",
       "      <td>20</td>\n",
       "      <td>422.4</td>\n",
       "      <td>Public</td>\n",
       "      <td>NaN</td>\n",
       "      <td>{u'portfolio_item': [{u'pi_large_thumbnail': u...</td>\n",
       "      <td>{u'portfolio_items_v': [{u'pi_large_thumbnail'...</td>\n",
       "    </tr>\n",
       "    <tr>\n",
       "      <th>4</th>\n",
       "      <td>57c4890397f6b341e8728c53</td>\n",
       "      <td>NaN</td>\n",
       "      <td>~0113b7a1ad10ba8634</td>\n",
       "      <td></td>\n",
       "      <td>5</td>\n",
       "      <td>5</td>\n",
       "      <td>25.00</td>\n",
       "      <td>1</td>\n",
       "      <td>I graduated this spring with a Master's in Mat...</td>\n",
       "      <td>Houston</td>\n",
       "      <td>United States</td>\n",
       "      <td>5</td>\n",
       "      <td>Sarah</td>\n",
       "      <td></td>\n",
       "      <td>0</td>\n",
       "      <td>{u'dev_job_categories_v': [{u'name': u'Data Vi...</td>\n",
       "      <td>August 4, 2016</td>\n",
       "      <td>Armstrong</td>\n",
       "      <td>August 4, 2016</td>\n",
       "      <td>0</td>\n",
       "      <td>0</td>\n",
       "      <td>Data science &amp; statistical computing</td>\n",
       "      <td>9383018</td>\n",
       "      <td>~0113b7a1ad10ba8634</td>\n",
       "      <td>Sarah Armstrong</td>\n",
       "      <td>1</td>\n",
       "      <td>7.33333333</td>\n",
       "      <td>Public</td>\n",
       "      <td>NaN</td>\n",
       "      <td></td>\n",
       "      <td>NaN</td>\n",
       "    </tr>\n",
       "    <tr>\n",
       "      <th>5</th>\n",
       "      <td>57c4890497f6b341e8728c54</td>\n",
       "      <td>NaN</td>\n",
       "      <td>~018a25773b7e402c48</td>\n",
       "      <td></td>\n",
       "      <td>0</td>\n",
       "      <td>0</td>\n",
       "      <td>10.00</td>\n",
       "      <td>1</td>\n",
       "      <td>I have masters degree in computer science (UFP...</td>\n",
       "      <td>Belém</td>\n",
       "      <td>Brazil</td>\n",
       "      <td></td>\n",
       "      <td>Leandro H S</td>\n",
       "      <td></td>\n",
       "      <td>0</td>\n",
       "      <td>{u'dev_job_categories_v': [{u'name': u'Other -...</td>\n",
       "      <td>August 28, 2016</td>\n",
       "      <td>Correa</td>\n",
       "      <td>August 21, 2016</td>\n",
       "      <td>0</td>\n",
       "      <td>0</td>\n",
       "      <td>Data science/analytics</td>\n",
       "      <td>11761748</td>\n",
       "      <td>~018a25773b7e402c48</td>\n",
       "      <td>Leandro H S Correa</td>\n",
       "      <td>0</td>\n",
       "      <td>1.16666667</td>\n",
       "      <td>Public</td>\n",
       "      <td>NaN</td>\n",
       "      <td></td>\n",
       "      <td>NaN</td>\n",
       "    </tr>\n",
       "  </tbody>\n",
       "</table>\n",
       "</div>"
      ],
      "text/plain": [
       "                        _id agency_ciphertext           ciphertext  \\\n",
       "0  57c488aa97f6b341e8728c4d               NaN  ~01d3ad50155896e4ae   \n",
       "2  57c4890297f6b341e8728c51               NaN  ~0199f1742b3c7202ba   \n",
       "3  57c4890397f6b341e8728c52               NaN  ~010ee721f96dbeb744   \n",
       "4  57c4890397f6b341e8728c53               NaN  ~0113b7a1ad10ba8634   \n",
       "5  57c4890497f6b341e8728c54               NaN  ~018a25773b7e402c48   \n",
       "\n",
       "  dev_ac_agencies dev_adj_score dev_adj_score_recent dev_bill_rate  \\\n",
       "0                             5                    5         35.00   \n",
       "2                             5                    5         18.00   \n",
       "3                  4.9733793523                    5          8.00   \n",
       "4                             5                    5         25.00   \n",
       "5                             0                    0         10.00   \n",
       "\n",
       "  dev_billed_assignments                                          dev_blurb  \\\n",
       "0                      8  Data Science Consultant specialising in statis...   \n",
       "2                      2  TECHNICAL SKILLS\\nMicrosoft Office: Word, Exce...   \n",
       "3                     32  Talented, Well qualified and versatile profess...   \n",
       "4                      1  I graduated this spring with a Master's in Mat...   \n",
       "5                      1  I have masters degree in computer science (UFP...   \n",
       "\n",
       "    dev_city    dev_country dev_eng_skill dev_first_name dev_groups  \\\n",
       "0       Cork        Ireland             5        Michael              \n",
       "2      Tampa  United States                          Thu              \n",
       "3  Bangalore          India             5        Keerthi              \n",
       "4    Houston  United States             5          Sarah              \n",
       "5      Belém         Brazil                  Leandro H S              \n",
       "\n",
       "  dev_is_affiliated                              dev_job_categories_v2  \\\n",
       "0                 0  {u'dev_job_categories_v': [{u'name': u'Data Vi...   \n",
       "2                 0  {u'dev_job_categories_v': [{u'name': u'Project...   \n",
       "3                 0  {u'dev_job_categories_v': [{u'name': u'Present...   \n",
       "4                 0  {u'dev_job_categories_v': [{u'name': u'Data Vi...   \n",
       "5                 0  {u'dev_job_categories_v': [{u'name': u'Other -...   \n",
       "\n",
       "  dev_last_activity dev_last_name  dev_last_worked dev_portfolio_items_count  \\\n",
       "0   August 15, 2016        Grogan  August 15, 2016                         0   \n",
       "2    August 2, 2016        Nguyen    June 12, 2016                         0   \n",
       "3   August 29, 2016                August 29, 2016                         5   \n",
       "4    August 4, 2016     Armstrong   August 4, 2016                         0   \n",
       "5   August 28, 2016        Correa  August 21, 2016                         0   \n",
       "\n",
       "  dev_portfolio_items_v2_count  \\\n",
       "0                            0   \n",
       "2                            2   \n",
       "3                            5   \n",
       "4                            0   \n",
       "5                            0   \n",
       "\n",
       "                                   dev_profile_title dev_recno  \\\n",
       "0  Data Science and Statistics Consultant | Pytho...   7766913   \n",
       "2                              Data Science Analytic  11492831   \n",
       "3                 Analytics Consulting, Data Science   3844505   \n",
       "4               Data science & statistical computing   9383018   \n",
       "5                             Data science/analytics  11761748   \n",
       "\n",
       "  dev_recno_ciphertext      dev_short_name dev_tot_feedback dev_total_hours  \\\n",
       "0  ~01d3ad50155896e4ae      Michael Grogan                6      6.66666667   \n",
       "2  ~0199f1742b3c7202ba          Thu Nguyen                2     91.50000001   \n",
       "3  ~010ee721f96dbeb744          Keerthi E.               20           422.4   \n",
       "4  ~0113b7a1ad10ba8634     Sarah Armstrong                1      7.33333333   \n",
       "5  ~018a25773b7e402c48  Leandro H S Correa                0      1.16666667   \n",
       "\n",
       "  dev_ui_profile_access job_categories  \\\n",
       "0      oDesk Users only            NaN   \n",
       "2                Public            NaN   \n",
       "3                Public            NaN   \n",
       "4                Public            NaN   \n",
       "5                Public            NaN   \n",
       "\n",
       "                                     portfolio_items  \\\n",
       "0                                                      \n",
       "2                                                      \n",
       "3  {u'portfolio_item': [{u'pi_large_thumbnail': u...   \n",
       "4                                                      \n",
       "5                                                      \n",
       "\n",
       "                                  portfolio_items_v2  \n",
       "0                                                NaN  \n",
       "2  {u'portfolio_items_v': [{u'pi_large_thumbnail'...  \n",
       "3  {u'portfolio_items_v': [{u'pi_large_thumbnail'...  \n",
       "4                                                NaN  \n",
       "5                                                NaN  "
      ]
     },
     "execution_count": 199,
     "metadata": {},
     "output_type": "execute_result"
    }
   ],
   "source": [
    "person_df_lim.head()"
   ]
  },
  {
   "cell_type": "code",
   "execution_count": 191,
   "metadata": {
    "collapsed": false
   },
   "outputs": [],
   "source": [
    "# drop any duplicates\n",
    "person_df_lim = person_df_lim.drop_duplicates([\"ciphertext\"])"
   ]
  },
  {
   "cell_type": "code",
   "execution_count": 193,
   "metadata": {
    "collapsed": true
   },
   "outputs": [],
   "source": [
    "with open('profiles.pkl', 'w') as picklefile:\n",
    "    pickle.dump(person_df_lim, picklefile)"
   ]
  },
  {
   "cell_type": "markdown",
   "metadata": {},
   "source": [
    "I need to unpack education, experiences, skills, and tsexams"
   ]
  },
  {
   "cell_type": "markdown",
   "metadata": {},
   "source": [
    "### Experiences"
   ]
  },
  {
   "cell_type": "code",
   "execution_count": 469,
   "metadata": {
    "collapsed": true
   },
   "outputs": [],
   "source": [
    "experiences_nested = person_df[[\"experiences\", \"ciphertext\"]]"
   ]
  },
  {
   "cell_type": "code",
   "execution_count": 553,
   "metadata": {
    "collapsed": true
   },
   "outputs": [],
   "source": [
    "def unnest_experiences(df):  \n",
    "    # initialize new dataset\n",
    "    nd = pd.DataFrame.from_dict(df[\"experiences\"][1])\n",
    "    nd[\"ciphertext\"] = \"lksjdflkj\"\n",
    "    # for each row of the dataframe\n",
    "    for index, row in df.iterrows():\n",
    "        # if the person has experience\n",
    "        if row[\"experiences\"]: \n",
    "            # if person has multiple experiences, put each in own row\n",
    "            if type(row[\"experiences\"][\"experience\"]) == list: \n",
    "                td = pd.DataFrame.from_dict(row[\"experiences\"])\n",
    "                td[\"ciphertext\"] = row[\"ciphertext\"]  \n",
    "                nd = pd.concat([nd, td], ignore_index=True)\n",
    "            # if person has one experience, keep the same\n",
    "            else: \n",
    "                td = pd.DataFrame(index = [0], columns = [\"experience\", \"ciphertext\"])\n",
    "                td = td.set_value(0, 'ciphertext', row[\"ciphertext\"])\n",
    "                td = td.set_value(0, \"experience\", row[\"experiences\"][\"experience\"])\n",
    "                nd = pd.concat([nd, td], ignore_index=True)\n",
    "    return nd\n",
    "\n",
    "def finish_unnest_experiences(df):  \n",
    "    # initialize new dataset\n",
    "    nd = pd.DataFrame(df[\"experience\"][0], index = [0])\n",
    "    nd[\"ciphertext\"] = \"lksjdflkj\"\n",
    "    for index, row in df.iterrows():\n",
    "        td = pd.DataFrame(row[\"experience\"], index = [1])\n",
    "        td[\"ciphertext\"] = row[\"ciphertext\"]  \n",
    "        nd = pd.concat([nd, td], ignore_index = True)\n",
    "    return nd"
   ]
  },
  {
   "cell_type": "code",
   "execution_count": 554,
   "metadata": {
    "collapsed": false
   },
   "outputs": [],
   "source": [
    "partially_unnested_experiences = unnest_experiences(experiences_nested)"
   ]
  },
  {
   "cell_type": "code",
   "execution_count": 577,
   "metadata": {
    "collapsed": false
   },
   "outputs": [],
   "source": [
    "completely_unnested_experiences = finish_unnest_experiences(partially_unnested_experiences)\n",
    "completely_unnested_experiences = completely_unnested_experiences[completely_unnested_experiences[\"ciphertext\"] != \"lksjdflkj\"]"
   ]
  },
  {
   "cell_type": "code",
   "execution_count": 582,
   "metadata": {
    "collapsed": false,
    "scrolled": true
   },
   "outputs": [
    {
     "data": {
      "text/html": [
       "<div>\n",
       "<table border=\"1\" class=\"dataframe\">\n",
       "  <thead>\n",
       "    <tr style=\"text-align: right;\">\n",
       "      <th></th>\n",
       "      <th>exp_comment</th>\n",
       "      <th>exp_company</th>\n",
       "      <th>exp_from</th>\n",
       "      <th>exp_title_raw</th>\n",
       "      <th>exp_to</th>\n",
       "      <th>ciphertext</th>\n",
       "    </tr>\n",
       "  </thead>\n",
       "  <tbody>\n",
       "    <tr>\n",
       "      <th>3</th>\n",
       "      <td></td>\n",
       "      <td>Nova School of Business and Economics</td>\n",
       "      <td>09/2015</td>\n",
       "      <td>Teaching Assistant (MSc Economics)</td>\n",
       "      <td>02/2016</td>\n",
       "      <td>~01d3ad50155896e4ae</td>\n",
       "    </tr>\n",
       "    <tr>\n",
       "      <th>4</th>\n",
       "      <td></td>\n",
       "      <td>Citco Fund Services</td>\n",
       "      <td>05/2013</td>\n",
       "      <td>Hedge Fund Administrator</td>\n",
       "      <td>02/2014</td>\n",
       "      <td>~01d3ad50155896e4ae</td>\n",
       "    </tr>\n",
       "    <tr>\n",
       "      <th>5</th>\n",
       "      <td></td>\n",
       "      <td>Nova School of Business and Economics</td>\n",
       "      <td>09/2015</td>\n",
       "      <td>Teaching Assistant (MSc Economics)</td>\n",
       "      <td>02/2016</td>\n",
       "      <td>~01d3ad50155896e4ae</td>\n",
       "    </tr>\n",
       "    <tr>\n",
       "      <th>6</th>\n",
       "      <td></td>\n",
       "      <td>Citco Fund Services</td>\n",
       "      <td>05/2013</td>\n",
       "      <td>Hedge Fund Administrator</td>\n",
       "      <td>02/2014</td>\n",
       "      <td>~01d3ad50155896e4ae</td>\n",
       "    </tr>\n",
       "    <tr>\n",
       "      <th>7</th>\n",
       "      <td>- Founded a freelance marketing group that wor...</td>\n",
       "      <td>Self-employee</td>\n",
       "      <td>06/2011</td>\n",
       "      <td>Marketing</td>\n",
       "      <td>01/2013</td>\n",
       "      <td>~0199f1742b3c7202ba</td>\n",
       "    </tr>\n",
       "  </tbody>\n",
       "</table>\n",
       "</div>"
      ],
      "text/plain": [
       "                                         exp_comment  \\\n",
       "3                                                      \n",
       "4                                                      \n",
       "5                                                      \n",
       "6                                                      \n",
       "7  - Founded a freelance marketing group that wor...   \n",
       "\n",
       "                             exp_company exp_from  \\\n",
       "3  Nova School of Business and Economics  09/2015   \n",
       "4                    Citco Fund Services  05/2013   \n",
       "5  Nova School of Business and Economics  09/2015   \n",
       "6                    Citco Fund Services  05/2013   \n",
       "7                          Self-employee  06/2011   \n",
       "\n",
       "                        exp_title_raw   exp_to           ciphertext  \n",
       "3  Teaching Assistant (MSc Economics)  02/2016  ~01d3ad50155896e4ae  \n",
       "4            Hedge Fund Administrator  02/2014  ~01d3ad50155896e4ae  \n",
       "5  Teaching Assistant (MSc Economics)  02/2016  ~01d3ad50155896e4ae  \n",
       "6            Hedge Fund Administrator  02/2014  ~01d3ad50155896e4ae  \n",
       "7                           Marketing  01/2013  ~0199f1742b3c7202ba  "
      ]
     },
     "execution_count": 582,
     "metadata": {},
     "output_type": "execute_result"
    }
   ],
   "source": [
    "completely_unnested_experiences.head()"
   ]
  },
  {
   "cell_type": "code",
   "execution_count": 160,
   "metadata": {
    "collapsed": true
   },
   "outputs": [],
   "source": [
    "# drop any duplicates\n",
    "completely_unnested_experiences = pd.DataFrame.drop_duplicates(completely_unnested_experiences)"
   ]
  },
  {
   "cell_type": "code",
   "execution_count": 164,
   "metadata": {
    "collapsed": true
   },
   "outputs": [],
   "source": [
    "with open('experiences.pkl', 'w') as picklefile:\n",
    "    pickle.dump(completely_unnested_experiences, picklefile)"
   ]
  },
  {
   "cell_type": "markdown",
   "metadata": {},
   "source": [
    "## Skills"
   ]
  },
  {
   "cell_type": "code",
   "execution_count": 134,
   "metadata": {
    "collapsed": true
   },
   "outputs": [],
   "source": [
    "skills_nested = person_df[[\"skills\", \"ciphertext\"]]"
   ]
  },
  {
   "cell_type": "code",
   "execution_count": 587,
   "metadata": {
    "collapsed": false,
    "scrolled": true
   },
   "outputs": [
    {
     "data": {
      "text/plain": [
       "[{u'skl_description': u'Econometrics has been defined as the application of mathematics and statistical methods to economic data and described as the branch of economics that aims to give empirical content to economic relations.',\n",
       "  u'skl_external_link': u'http://en.wikipedia.org/wiki/Econometrics',\n",
       "  u'skl_has_tests': u'0',\n",
       "  u'skl_name': u'econometrics',\n",
       "  u'skl_rank': u'2'},\n",
       " {u'skl_description': u'Excel VBA (Visual Basic for Applications) is the programming language of Excel. Excel code processes are called Excel Macros.',\n",
       "  u'skl_external_link': u'',\n",
       "  u'skl_has_tests': u'0',\n",
       "  u'skl_name': u'excel-vba',\n",
       "  u'skl_rank': u'10'},\n",
       " {u'skl_description': u'Financial analysis (also referred to as financial statement analysis or accounting analysis) refers to an assessment of the viability, stability and profitability of a business, sub-business or project.',\n",
       "  u'skl_external_link': u'http://en.wikipedia.org/wiki/Financial_analysis',\n",
       "  u'skl_has_tests': u'1',\n",
       "  u'skl_name': u'financial-analysis',\n",
       "  u'skl_rank': u'9'},\n",
       " {u'skl_description': u'Financial modeling is the task of building an abstract representation (a model) of a financial decision making situation.',\n",
       "  u'skl_external_link': u'http://en.wikipedia.org/wiki/Financial_modeling',\n",
       "  u'skl_has_tests': u'0',\n",
       "  u'skl_name': u'financial-modeling',\n",
       "  u'skl_rank': u'8'},\n",
       " {u'skl_description': u'',\n",
       "  u'skl_external_link': u'',\n",
       "  u'skl_has_tests': u'0',\n",
       "  u'skl_name': u'financial-writing',\n",
       "  u'skl_rank': u'5'},\n",
       " {u'skl_description': u'The foreign exchange market is a global, worldwide-decentralized financial market for trading currencies.',\n",
       "  u'skl_external_link': u'http://en.wikipedia.org/wiki/Foreign_exchange_market',\n",
       "  u'skl_has_tests': u'0',\n",
       "  u'skl_name': u'forex-trading',\n",
       "  u'skl_rank': u'6'},\n",
       " {u'skl_description': u'Investment is the purchase of an asset or item with the hope that it will generate income or appreciate in the future and be sold at the higher price.',\n",
       "  u'skl_external_link': u'http://en.wikipedia.org/wiki/Investment',\n",
       "  u'skl_has_tests': u'0',\n",
       "  u'skl_name': u'investment-research',\n",
       "  u'skl_rank': u'7'},\n",
       " {u'skl_description': u'Python is a general-purpose, high-level programming language whose design philosophy emphasizes code readability. Python claims to combine \"remarkable power with very clear syntax\", and its standard library is large and comprehensive.',\n",
       "  u'skl_external_link': u'http://en.wikipedia.org/wiki/Python_(programming_language)',\n",
       "  u'skl_has_tests': u'1',\n",
       "  u'skl_name': u'python',\n",
       "  u'skl_rank': u'4'},\n",
       " {u'skl_description': u'R is a programming language and software environment for statistical computing and graphics. The R language is widely used among statisticians for developing statistical software, and R is widely used for statistical software development and data analysis.',\n",
       "  u'skl_external_link': u'http://en.wikipedia.org/wiki/R_(programming_language)',\n",
       "  u'skl_has_tests': u'0',\n",
       "  u'skl_name': u'r',\n",
       "  u'skl_rank': u'3'},\n",
       " {u'skl_description': u'Statistics is the study of the collection, organization, analysis, and interpretation of data. It deals with all aspects of this, including the planning of data collection in terms of the design of surveys and experiments.',\n",
       "  u'skl_external_link': u'http://en.wikipedia.org/wiki/Statistics',\n",
       "  u'skl_has_tests': u'1',\n",
       "  u'skl_name': u'statistics',\n",
       "  u'skl_rank': u'1'}]"
      ]
     },
     "execution_count": 587,
     "metadata": {},
     "output_type": "execute_result"
    }
   ],
   "source": [
    "skills_nested[\"skills\"][0][\"skill\"]"
   ]
  },
  {
   "cell_type": "code",
   "execution_count": 211,
   "metadata": {
    "collapsed": true
   },
   "outputs": [],
   "source": [
    "def unnest_anything(df, target, sub_target):  \n",
    "    # initialize new dataset\n",
    "    nd = pd.DataFrame.from_dict(df[target].iloc[1])\n",
    "    nd[\"ciphertext\"] = \"lksjdflkj\"\n",
    "    for index, row in df.iterrows():\n",
    "        # if the person has it\n",
    "        if row[target]: \n",
    "            # if person has multiple, put each in own row\n",
    "            if type(row[target][sub_target]) == list: \n",
    "                td = pd.DataFrame.from_dict(row[target])\n",
    "                td[\"ciphertext\"] = row[\"ciphertext\"]  \n",
    "                nd = pd.concat([nd, td], ignore_index=True)\n",
    "            # if person has one, keep the same\n",
    "            else: \n",
    "                td = pd.DataFrame(index = [0], columns = [sub_target, \"ciphertext\"])\n",
    "                td = td.set_value(0, 'ciphertext', row[\"ciphertext\"])\n",
    "                td = td.set_value(0, sub_target, row[target][sub_target])\n",
    "                nd = pd.concat([nd, td], ignore_index=True)\n",
    "    return nd\n",
    "\n",
    "def finish_unnesting(df, target):      \n",
    "    new_df = pd.DataFrame()\n",
    "    for key in df[target].iloc[0].keys(): \n",
    "        key_values = df[target].apply(lambda x: x[key])\n",
    "        new_df[key] = key_values\n",
    "    new_df[\"ciphertext\"] = df[\"ciphertext\"]\n",
    "    return new_df"
   ]
  },
  {
   "cell_type": "code",
   "execution_count": 136,
   "metadata": {
    "collapsed": false
   },
   "outputs": [
    {
     "data": {
      "text/plain": [
       "157709"
      ]
     },
     "execution_count": 136,
     "metadata": {},
     "output_type": "execute_result"
    }
   ],
   "source": [
    "len(skills_partially_unnested)"
   ]
  },
  {
   "cell_type": "code",
   "execution_count": 145,
   "metadata": {
    "collapsed": false
   },
   "outputs": [],
   "source": [
    "skills_partially_unnested = unnest_anything(skills_nested, \"skills\", \"skill\")\n",
    "skills_completely_unnested = pd.DataFrame()\n",
    "skills_completely_unnested[\"ciphertext\"] = skills_partially_unnested[\"ciphertext\"]\n",
    "skills_completely_unnested[\"skill_name\"] = skills_partially_unnested[\"skill\"].apply(lambda x: x[\"skl_name\"])\n",
    "skills_completely_unnested[\"skill_rank\"] = skills_partially_unnested[\"skill\"].apply(lambda x: x[\"skl_rank\"])\n",
    "skills_completely_unnested = skills_completely_unnested[skills_completely_unnested[\"ciphertext\"] != \"lksjdflkj\"]\n",
    "# drop any duplicates\n",
    "skills_completely_unnested = pd.DataFrame.drop_duplicates(skills_completely_unnested)"
   ]
  },
  {
   "cell_type": "code",
   "execution_count": 166,
   "metadata": {
    "collapsed": true
   },
   "outputs": [],
   "source": [
    "with open('skills.pkl', 'w') as picklefile:\n",
    "    pickle.dump(skills_completely_unnested, picklefile)"
   ]
  },
  {
   "cell_type": "markdown",
   "metadata": {},
   "source": [
    "### Get skills for everyone"
   ]
  },
  {
   "cell_type": "code",
   "execution_count": 274,
   "metadata": {
    "collapsed": true
   },
   "outputs": [],
   "source": [
    "cursor = db.final_profile_details.find({}, {\"ciphertext\": 1, \"skills\": 1})"
   ]
  },
  {
   "cell_type": "code",
   "execution_count": 276,
   "metadata": {
    "collapsed": true
   },
   "outputs": [],
   "source": [
    "all_skills = pd.DataFrame(list(cursor))\n",
    "all_skills_partially_unnested = unnest_anything(all_skills, \"skills\", \"skill\")\n",
    "all_skills_completely_unnested = pd.DataFrame()\n",
    "all_skills_completely_unnested[\"ciphertext\"] = all_skills_partially_unnested[\"ciphertext\"]\n",
    "all_skills_completely_unnested[\"skill_name\"] = all_skills_partially_unnested[\"skill\"].apply(lambda x: x[\"skl_name\"])\n",
    "all_skills_completely_unnested[\"skill_rank\"] = all_skills_partially_unnested[\"skill\"].apply(lambda x: x[\"skl_rank\"])\n",
    "# drop any duplicates and the nonsense one\n",
    "all_skills_completely_unnested = all_skills_completely_unnested[all_skills_completely_unnested[\"ciphertext\"] != \"lksjdflkj\"]\n",
    "all_skills_completely_unnested = pd.DataFrame.drop_duplicates(all_skills_completely_unnested)"
   ]
  },
  {
   "cell_type": "code",
   "execution_count": 283,
   "metadata": {
    "collapsed": true
   },
   "outputs": [],
   "source": [
    "with open('all_skills.pkl', 'w') as picklefile:\n",
    "    pickle.dump(all_skills_completely_unnested, picklefile)"
   ]
  },
  {
   "cell_type": "code",
   "execution_count": 282,
   "metadata": {
    "collapsed": false
   },
   "outputs": [],
   "source": [
    "pd.DataFrame.to_csv(all_skills_completely_unnested, \"all_skills.csv\")"
   ]
  },
  {
   "cell_type": "markdown",
   "metadata": {},
   "source": [
    "## Education"
   ]
  },
  {
   "cell_type": "code",
   "execution_count": 88,
   "metadata": {
    "collapsed": true
   },
   "outputs": [],
   "source": [
    "education_nested = person_df[[\"education\", \"ciphertext\"]]\n",
    "education_partially_unnested = unnest_anything(education_nested, \"education\", \"institution\")\n",
    "education_completely_unnested = finish_unnesting(education_partially_unnested, \"institution\")\n",
    "education_completely_unnested = education_completely_unnested[education_completely_unnested[\"ciphertext\"] != \"lksjdflkj\"]\n",
    "# drop any duplicates\n",
    "education_completely_unnested = pd.DataFrame.drop_duplicates(education_completely_unnested)"
   ]
  },
  {
   "cell_type": "code",
   "execution_count": 168,
   "metadata": {
    "collapsed": true
   },
   "outputs": [],
   "source": [
    "with open('education.pkl', 'w') as picklefile:\n",
    "    pickle.dump(education_completely_unnested, picklefile)"
   ]
  },
  {
   "cell_type": "markdown",
   "metadata": {},
   "source": [
    "Education for everyone"
   ]
  },
  {
   "cell_type": "code",
   "execution_count": 284,
   "metadata": {
    "collapsed": true
   },
   "outputs": [],
   "source": [
    "cursor = db.final_profile_details.find({}, {\"ciphertext\": 1, \"education\": 1})\n",
    "all_education = pd.DataFrame(list(cursor))"
   ]
  },
  {
   "cell_type": "code",
   "execution_count": 286,
   "metadata": {
    "collapsed": true
   },
   "outputs": [],
   "source": [
    "all_education_partially_unnested = unnest_anything(all_education, \"education\", \"institution\")\n",
    "all_education_completely_unnested = finish_unnesting(all_education_partially_unnested, \"institution\")\n",
    "all_education_completely_unnested = all_education_completely_unnested[all_education_completely_unnested[\"ciphertext\"] != \"lksjdflkj\"]\n",
    "# drop any duplicates\n",
    "all_education_completely_unnested = pd.DataFrame.drop_duplicates(all_education_completely_unnested)"
   ]
  },
  {
   "cell_type": "code",
   "execution_count": 288,
   "metadata": {
    "collapsed": true
   },
   "outputs": [],
   "source": [
    "with open('all_education.pkl', 'w') as picklefile:\n",
    "    pickle.dump(all_education_completely_unnested, picklefile)"
   ]
  },
  {
   "cell_type": "markdown",
   "metadata": {},
   "source": [
    "### Exams"
   ]
  },
  {
   "cell_type": "code",
   "execution_count": 98,
   "metadata": {
    "collapsed": true
   },
   "outputs": [],
   "source": [
    "exam_nested = person_df[[\"tsexams\", \"ciphertext\"]]\n",
    "exam_partially_unnested = unnest_anything(exam_nested, \"tsexams\", \"tsexam\")\n",
    "exam_completely_unnested = finish_unnesting(exam_partially_unnested, \"tsexam\")\n",
    "exam_completely_unnested = exam_completely_unnested[exam_completely_unnested[\"ciphertext\"] != \"lksjdflkj\"]\n",
    "# drop any duplicates\n",
    "exam_completely_unnested = pd.DataFrame.drop_duplicates(exam_completely_unnested)"
   ]
  },
  {
   "cell_type": "code",
   "execution_count": 170,
   "metadata": {
    "collapsed": true
   },
   "outputs": [],
   "source": [
    "with open('exams.pkl', 'w') as picklefile:\n",
    "    pickle.dump(exam_completely_unnested, picklefile)"
   ]
  }
 ],
 "metadata": {
  "kernelspec": {
   "display_name": "Python 2",
   "language": "python",
   "name": "python2"
  },
  "language_info": {
   "codemirror_mode": {
    "name": "ipython",
    "version": 2
   },
   "file_extension": ".py",
   "mimetype": "text/x-python",
   "name": "python",
   "nbconvert_exporter": "python",
   "pygments_lexer": "ipython2",
   "version": "2.7.11"
  }
 },
 "nbformat": 4,
 "nbformat_minor": 0
}
