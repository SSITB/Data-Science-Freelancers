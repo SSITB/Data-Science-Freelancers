{
 "cells": [
  {
   "cell_type": "markdown",
   "metadata": {},
   "source": [
    "### Get jobs from API and put into MongoDB"
   ]
  },
  {
   "cell_type": "markdown",
   "metadata": {},
   "source": [
    "You have to input your real secret and public key here"
   ]
  },
  {
   "cell_type": "code",
   "execution_count": 1,
   "metadata": {
    "collapsed": false
   },
   "outputs": [
    {
     "data": {
      "text/plain": [
       "('8fdd02b1c550b2bc75af35aa5a268bca', '8737f87abb40b45f')"
      ]
     },
     "execution_count": 1,
     "metadata": {},
     "output_type": "execute_result"
    }
   ],
   "source": [
    "import upwork\n",
    "pk = \"YYY\"\n",
    "sk = \"XXX\"\n",
    "client = upwork.Client(public_key = pk, secret_key = sk)\n",
    "#category2\n",
    "client.auth.get_request_token()"
   ]
  },
  {
   "cell_type": "code",
   "execution_count": 2,
   "metadata": {
    "collapsed": false
   },
   "outputs": [
    {
     "name": "stdout",
     "output_type": "stream",
     "text": [
      "Please enter the verification code you get following this link:\n",
      "https://www.upwork.com/services/api/auth?oauth_token=8fdd02b1c550b2bc75af35aa5a268bca\n",
      "\n",
      "> 344eae9bfa367e7c59ee2f47f69168da\n"
     ]
    }
   ],
   "source": [
    "import requests\n",
    "\n",
    "authorize_url = client.auth.get_authorize_url()\n",
    "\n",
    "# Invoke the authorize url\n",
    "requests.get(authorize_url)\n",
    "\n",
    "verifier = raw_input(\n",
    "    'Please enter the verification code you get '\n",
    "    'following this link:\\n{0}\\n\\n> '.format(\n",
    "        client.auth.get_authorize_url()))\n",
    "\n",
    "access_token, access_token_secret = client.auth.get_access_token(verifier)"
   ]
  },
  {
   "cell_type": "code",
   "execution_count": 156,
   "metadata": {
    "collapsed": true
   },
   "outputs": [],
   "source": [
    "from pymongo import MongoClient\n",
    "client = MongoClient()\n",
    "db = client.data_science_jobs\n",
    "import json"
   ]
  },
  {
   "cell_type": "code",
   "execution_count": null,
   "metadata": {
    "collapsed": true
   },
   "outputs": [],
   "source": [
    "client = upwork.Client(pk, sk, access_token, access_token_secret)"
   ]
  },
  {
   "cell_type": "code",
   "execution_count": 13,
   "metadata": {
    "collapsed": true
   },
   "outputs": [],
   "source": [
    "def gather_jobs(page_number_start, page_number_end):\n",
    "    data = {'category2':'Data Science & Analytics', 'q': ''}\n",
    "    for i in range(page_number_start, page_number_end):\n",
    "        # get 100 data scientists\n",
    "        jobs = client.provider_v2.search_jobs(data=data, page_offset = (i - 1) * 99 + 1, page_size = 99)\n",
    "        #if no entries returned, stop \n",
    "        if len(jobs) == 0: \n",
    "            break\n",
    "        # insert records into DB    \n",
    "        db.data_science_jobs.insert_many(jobs)"
   ]
  },
  {
   "cell_type": "code",
   "execution_count": 17,
   "metadata": {
    "collapsed": false
   },
   "outputs": [],
   "source": [
    "gather_jobs(2, 100)"
   ]
  },
  {
   "cell_type": "code",
   "execution_count": 23,
   "metadata": {
    "collapsed": false
   },
   "outputs": [
    {
     "data": {
      "text/plain": [
       "3016"
      ]
     },
     "execution_count": 23,
     "metadata": {},
     "output_type": "execute_result"
    }
   ],
   "source": [
    "len(db.data_science_jobs.distinct(\"url\"))"
   ]
  },
  {
   "cell_type": "code",
   "execution_count": 24,
   "metadata": {
    "collapsed": false
   },
   "outputs": [
    {
     "name": "stdout",
     "output_type": "stream",
     "text": [
      "Gathered the 3016 jobs currently posted on Upwork\n"
     ]
    }
   ],
   "source": [
    "print \"Gathered the %d jobs currently posted on Upwork\" %len(db.data_science_jobs.distinct(\"url\"))"
   ]
  },
  {
   "cell_type": "markdown",
   "metadata": {},
   "source": [
    "### Organize job information from API"
   ]
  },
  {
   "cell_type": "code",
   "execution_count": 25,
   "metadata": {
    "collapsed": false
   },
   "outputs": [
    {
     "data": {
      "text/plain": [
       "[u'job_status',\n",
       " u'category2',\n",
       " u'title',\n",
       " u'skills',\n",
       " u'job_type',\n",
       " u'budget',\n",
       " u'snippet',\n",
       " u'url',\n",
       " u'workload',\n",
       " u'client',\n",
       " u'subcategory2',\n",
       " u'duration',\n",
       " u'date_created',\n",
       " u'_id',\n",
       " u'id']"
      ]
     },
     "execution_count": 25,
     "metadata": {},
     "output_type": "execute_result"
    }
   ],
   "source": [
    "db.data_science_jobs.find_one().keys()"
   ]
  },
  {
   "cell_type": "markdown",
   "metadata": {},
   "source": [
    "We want title, skills, job_type, budget, snippet, workload, client, duration, and id"
   ]
  },
  {
   "cell_type": "code",
   "execution_count": 29,
   "metadata": {
    "collapsed": true
   },
   "outputs": [],
   "source": [
    "import pandas as pd"
   ]
  },
  {
   "cell_type": "code",
   "execution_count": 222,
   "metadata": {
    "collapsed": false
   },
   "outputs": [],
   "source": [
    "cursor = db.data_science_jobs.find({}, {\"title\": 1, \"skills\": 1, \n",
    "         \"id\": 1, \"job_type\": 1, \"budget\": 1, \"snippet\": 1, \n",
    "          \"workload\": 1, \"client\": 1, \"duration\": 1, \"url\": 1})\n",
    "jobs = pd.DataFrame(list(cursor))"
   ]
  },
  {
   "cell_type": "markdown",
   "metadata": {},
   "source": [
    "## Make Skill table jobs"
   ]
  },
  {
   "cell_type": "code",
   "execution_count": 162,
   "metadata": {
    "collapsed": true
   },
   "outputs": [],
   "source": [
    "job_skills = jobs[[\"id\", \"skills\"]]"
   ]
  },
  {
   "cell_type": "code",
   "execution_count": 163,
   "metadata": {
    "collapsed": false
   },
   "outputs": [
    {
     "data": {
      "text/html": [
       "<div>\n",
       "<table border=\"1\" class=\"dataframe\">\n",
       "  <thead>\n",
       "    <tr style=\"text-align: right;\">\n",
       "      <th></th>\n",
       "      <th>id</th>\n",
       "      <th>skills</th>\n",
       "    </tr>\n",
       "  </thead>\n",
       "  <tbody>\n",
       "    <tr>\n",
       "      <th>0</th>\n",
       "      <td>~01843684906136dc42</td>\n",
       "      <td>[excel-vba, javascript, microsoft-excel]</td>\n",
       "    </tr>\n",
       "    <tr>\n",
       "      <th>1</th>\n",
       "      <td>~013e5a61f2dd228aba</td>\n",
       "      <td>[data-entry, data-scraping]</td>\n",
       "    </tr>\n",
       "    <tr>\n",
       "      <th>2</th>\n",
       "      <td>~015369c631ecbb94df</td>\n",
       "      <td>[]</td>\n",
       "    </tr>\n",
       "    <tr>\n",
       "      <th>3</th>\n",
       "      <td>~01f11a2bb87e06eb26</td>\n",
       "      <td>[]</td>\n",
       "    </tr>\n",
       "    <tr>\n",
       "      <th>4</th>\n",
       "      <td>~014e134eb51da5da9d</td>\n",
       "      <td>[web-scraping, wordpress]</td>\n",
       "    </tr>\n",
       "  </tbody>\n",
       "</table>\n",
       "</div>"
      ],
      "text/plain": [
       "                    id                                    skills\n",
       "0  ~01843684906136dc42  [excel-vba, javascript, microsoft-excel]\n",
       "1  ~013e5a61f2dd228aba               [data-entry, data-scraping]\n",
       "2  ~015369c631ecbb94df                                        []\n",
       "3  ~01f11a2bb87e06eb26                                        []\n",
       "4  ~014e134eb51da5da9d                 [web-scraping, wordpress]"
      ]
     },
     "execution_count": 163,
     "metadata": {},
     "output_type": "execute_result"
    }
   ],
   "source": [
    "job_skills.head()"
   ]
  },
  {
   "cell_type": "code",
   "execution_count": 164,
   "metadata": {
    "collapsed": false
   },
   "outputs": [
    {
     "data": {
      "text/html": [
       "<div>\n",
       "<table border=\"1\" class=\"dataframe\">\n",
       "  <thead>\n",
       "    <tr style=\"text-align: right;\">\n",
       "      <th></th>\n",
       "      <th>id</th>\n",
       "      <th>skill</th>\n",
       "    </tr>\n",
       "  </thead>\n",
       "  <tbody>\n",
       "    <tr>\n",
       "      <th>0</th>\n",
       "      <td>~01843684906136dc42</td>\n",
       "      <td>excel-vba</td>\n",
       "    </tr>\n",
       "    <tr>\n",
       "      <th>1</th>\n",
       "      <td>~013e5a61f2dd228aba</td>\n",
       "      <td>data-entry</td>\n",
       "    </tr>\n",
       "    <tr>\n",
       "      <th>4</th>\n",
       "      <td>~014e134eb51da5da9d</td>\n",
       "      <td>web-scraping</td>\n",
       "    </tr>\n",
       "    <tr>\n",
       "      <th>6</th>\n",
       "      <td>~01e2ca0de451c40a7b</td>\n",
       "      <td>algorithm-development</td>\n",
       "    </tr>\n",
       "    <tr>\n",
       "      <th>7</th>\n",
       "      <td>~01e545de4066feed8e</td>\n",
       "      <td>java</td>\n",
       "    </tr>\n",
       "  </tbody>\n",
       "</table>\n",
       "</div>"
      ],
      "text/plain": [
       "                    id                  skill\n",
       "0  ~01843684906136dc42              excel-vba\n",
       "1  ~013e5a61f2dd228aba             data-entry\n",
       "4  ~014e134eb51da5da9d           web-scraping\n",
       "6  ~01e2ca0de451c40a7b  algorithm-development\n",
       "7  ~01e545de4066feed8e                   java"
      ]
     },
     "execution_count": 164,
     "metadata": {},
     "output_type": "execute_result"
    }
   ],
   "source": [
    "splitted = job_skills['skills'].apply(lambda x: pd.Series(list(x)))\n",
    "wide_skills = pd.concat([job_skills, splitted], axis=1)\n",
    "del wide_skills[\"skills\"]\n",
    "molten = pd.melt(wide_skills, id_vars = \"id\", value_name = \"skill\")\n",
    "molten = molten.dropna()\n",
    "del molten[\"variable\"]\n",
    "molten.head()"
   ]
  },
  {
   "cell_type": "markdown",
   "metadata": {},
   "source": [
    "## Unnest client information "
   ]
  },
  {
   "cell_type": "code",
   "execution_count": 223,
   "metadata": {
    "collapsed": false
   },
   "outputs": [],
   "source": [
    "def get_client_information(df):\n",
    "    # initialize dataframe\n",
    "    new_df = pd.DataFrame(df[\"client\"].iloc[0], index = [0])\n",
    "    for i in range(1, len(client_jobs)):\n",
    "        new_df = new_df.append(pd.DataFrame(client_jobs[\"client\"].iloc[i], index = [i]))\n",
    "    return new_df\n",
    "        "
   ]
  },
  {
   "cell_type": "code",
   "execution_count": 224,
   "metadata": {
    "collapsed": false
   },
   "outputs": [],
   "source": [
    "job_clients = get_client_information(jobs)"
   ]
  },
  {
   "cell_type": "code",
   "execution_count": 225,
   "metadata": {
    "collapsed": false
   },
   "outputs": [],
   "source": [
    "jobs = jobs.join(job_clients)\n",
    "del jobs[\"client\"]\n",
    "del jobs[\"_id\"]"
   ]
  },
  {
   "cell_type": "code",
   "execution_count": 227,
   "metadata": {
    "collapsed": true
   },
   "outputs": [],
   "source": [
    "pd.DataFrame.to_csv(jobs[[\"id\", \"url\", \"reviews_count\"]], \"jobs_url.csv\")"
   ]
  },
  {
   "cell_type": "code",
   "execution_count": 226,
   "metadata": {
    "collapsed": false
   },
   "outputs": [
    {
     "data": {
      "text/html": [
       "<div>\n",
       "<table border=\"1\" class=\"dataframe\">\n",
       "  <thead>\n",
       "    <tr style=\"text-align: right;\">\n",
       "      <th></th>\n",
       "      <th>budget</th>\n",
       "      <th>duration</th>\n",
       "      <th>id</th>\n",
       "      <th>job_type</th>\n",
       "      <th>skills</th>\n",
       "      <th>snippet</th>\n",
       "      <th>title</th>\n",
       "      <th>url</th>\n",
       "      <th>workload</th>\n",
       "      <th>country</th>\n",
       "      <th>feedback</th>\n",
       "      <th>jobs_posted</th>\n",
       "      <th>past_hires</th>\n",
       "      <th>payment_verification_status</th>\n",
       "      <th>reviews_count</th>\n",
       "    </tr>\n",
       "  </thead>\n",
       "  <tbody>\n",
       "    <tr>\n",
       "      <th>0</th>\n",
       "      <td>27.0</td>\n",
       "      <td>None</td>\n",
       "      <td>~01843684906136dc42</td>\n",
       "      <td>Fixed</td>\n",
       "      <td>[excel-vba, javascript, microsoft-excel]</td>\n",
       "      <td>We are looking for someone to create a VBA exc...</td>\n",
       "      <td>VBA / Macros for Geocoding Addresses</td>\n",
       "      <td>http://www.upwork.com/jobs/~01843684906136dc42</td>\n",
       "      <td>30+ hrs/week</td>\n",
       "      <td>United States</td>\n",
       "      <td>2.934960</td>\n",
       "      <td>57</td>\n",
       "      <td>38</td>\n",
       "      <td>VERIFIED</td>\n",
       "      <td>28</td>\n",
       "    </tr>\n",
       "    <tr>\n",
       "      <th>1</th>\n",
       "      <td>0.0</td>\n",
       "      <td>3 to 6 months</td>\n",
       "      <td>~013e5a61f2dd228aba</td>\n",
       "      <td>Hourly</td>\n",
       "      <td>[data-entry, data-scraping]</td>\n",
       "      <td>Looking for someone to do data collection.\\n\\n...</td>\n",
       "      <td>Need someone for data collection.</td>\n",
       "      <td>http://www.upwork.com/jobs/~013e5a61f2dd228aba</td>\n",
       "      <td>Less than 10 hrs/week</td>\n",
       "      <td>United States</td>\n",
       "      <td>4.482988</td>\n",
       "      <td>62</td>\n",
       "      <td>42</td>\n",
       "      <td>VERIFIED</td>\n",
       "      <td>28</td>\n",
       "    </tr>\n",
       "    <tr>\n",
       "      <th>2</th>\n",
       "      <td>0.0</td>\n",
       "      <td>Less than 1 week</td>\n",
       "      <td>~015369c631ecbb94df</td>\n",
       "      <td>Hourly</td>\n",
       "      <td>[]</td>\n",
       "      <td>Please read the entire post before responding:...</td>\n",
       "      <td>South Florida Realtor Email List Wanted</td>\n",
       "      <td>http://www.upwork.com/jobs/~015369c631ecbb94df</td>\n",
       "      <td>Less than 10 hrs/week</td>\n",
       "      <td>United States</td>\n",
       "      <td>5.000000</td>\n",
       "      <td>34</td>\n",
       "      <td>15</td>\n",
       "      <td>VERIFIED</td>\n",
       "      <td>1</td>\n",
       "    </tr>\n",
       "    <tr>\n",
       "      <th>3</th>\n",
       "      <td>0.0</td>\n",
       "      <td>Less than 1 week</td>\n",
       "      <td>~01f11a2bb87e06eb26</td>\n",
       "      <td>Hourly</td>\n",
       "      <td>[]</td>\n",
       "      <td>Please read the entire post before responding:...</td>\n",
       "      <td>South Florida Realtor Email List Wanted</td>\n",
       "      <td>http://www.upwork.com/jobs/~01f11a2bb87e06eb26</td>\n",
       "      <td>Less than 10 hrs/week</td>\n",
       "      <td>United States</td>\n",
       "      <td>5.000000</td>\n",
       "      <td>34</td>\n",
       "      <td>15</td>\n",
       "      <td>VERIFIED</td>\n",
       "      <td>1</td>\n",
       "    </tr>\n",
       "    <tr>\n",
       "      <th>4</th>\n",
       "      <td>0.0</td>\n",
       "      <td>More than 6 months</td>\n",
       "      <td>~014e134eb51da5da9d</td>\n",
       "      <td>Hourly</td>\n",
       "      <td>[web-scraping, wordpress]</td>\n",
       "      <td>We are looking for someone who can scrap one w...</td>\n",
       "      <td>Scraping website and uploading to Wordpress</td>\n",
       "      <td>http://www.upwork.com/jobs/~014e134eb51da5da9d</td>\n",
       "      <td>30+ hrs/week</td>\n",
       "      <td>Canada</td>\n",
       "      <td>0.000000</td>\n",
       "      <td>3</td>\n",
       "      <td>0</td>\n",
       "      <td>VERIFIED</td>\n",
       "      <td>0</td>\n",
       "    </tr>\n",
       "  </tbody>\n",
       "</table>\n",
       "</div>"
      ],
      "text/plain": [
       "   budget            duration                   id job_type  \\\n",
       "0    27.0                None  ~01843684906136dc42    Fixed   \n",
       "1     0.0       3 to 6 months  ~013e5a61f2dd228aba   Hourly   \n",
       "2     0.0    Less than 1 week  ~015369c631ecbb94df   Hourly   \n",
       "3     0.0    Less than 1 week  ~01f11a2bb87e06eb26   Hourly   \n",
       "4     0.0  More than 6 months  ~014e134eb51da5da9d   Hourly   \n",
       "\n",
       "                                     skills  \\\n",
       "0  [excel-vba, javascript, microsoft-excel]   \n",
       "1               [data-entry, data-scraping]   \n",
       "2                                        []   \n",
       "3                                        []   \n",
       "4                 [web-scraping, wordpress]   \n",
       "\n",
       "                                             snippet  \\\n",
       "0  We are looking for someone to create a VBA exc...   \n",
       "1  Looking for someone to do data collection.\\n\\n...   \n",
       "2  Please read the entire post before responding:...   \n",
       "3  Please read the entire post before responding:...   \n",
       "4  We are looking for someone who can scrap one w...   \n",
       "\n",
       "                                         title  \\\n",
       "0         VBA / Macros for Geocoding Addresses   \n",
       "1            Need someone for data collection.   \n",
       "2      South Florida Realtor Email List Wanted   \n",
       "3      South Florida Realtor Email List Wanted   \n",
       "4  Scraping website and uploading to Wordpress   \n",
       "\n",
       "                                              url               workload  \\\n",
       "0  http://www.upwork.com/jobs/~01843684906136dc42           30+ hrs/week   \n",
       "1  http://www.upwork.com/jobs/~013e5a61f2dd228aba  Less than 10 hrs/week   \n",
       "2  http://www.upwork.com/jobs/~015369c631ecbb94df  Less than 10 hrs/week   \n",
       "3  http://www.upwork.com/jobs/~01f11a2bb87e06eb26  Less than 10 hrs/week   \n",
       "4  http://www.upwork.com/jobs/~014e134eb51da5da9d           30+ hrs/week   \n",
       "\n",
       "         country  feedback  jobs_posted  past_hires  \\\n",
       "0  United States  2.934960           57          38   \n",
       "1  United States  4.482988           62          42   \n",
       "2  United States  5.000000           34          15   \n",
       "3  United States  5.000000           34          15   \n",
       "4         Canada  0.000000            3           0   \n",
       "\n",
       "  payment_verification_status  reviews_count  \n",
       "0                    VERIFIED             28  \n",
       "1                    VERIFIED             28  \n",
       "2                    VERIFIED              1  \n",
       "3                    VERIFIED              1  \n",
       "4                    VERIFIED              0  "
      ]
     },
     "execution_count": 226,
     "metadata": {},
     "output_type": "execute_result"
    }
   ],
   "source": [
    "jobs.head()"
   ]
  },
  {
   "cell_type": "code",
   "execution_count": 168,
   "metadata": {
    "collapsed": true
   },
   "outputs": [],
   "source": [
    "jobs[\"snippet\"] = jobs[\"snippet\"].apply(lambda x: x.replace(\"\\n\", \"\"))"
   ]
  },
  {
   "cell_type": "code",
   "execution_count": 196,
   "metadata": {
    "collapsed": false
   },
   "outputs": [],
   "source": [
    "with open('jobs.pkl', 'w') as picklefile:\n",
    "    pickle.dump(jobs, picklefile)"
   ]
  },
  {
   "cell_type": "code",
   "execution_count": 152,
   "metadata": {
    "collapsed": false
   },
   "outputs": [
    {
     "name": "stdout",
     "output_type": "stream",
     "text": [
      "We have 1963 jobs that have more than 250 characters\n"
     ]
    }
   ],
   "source": [
    "count_chars = jobs[\"snippet\"].apply(lambda x: len(x))\n",
    "print \"We have %d jobs that have more than 250 characters\" %len(count_chars[count_chars > 250])"
   ]
  },
  {
   "cell_type": "code",
   "execution_count": 181,
   "metadata": {
    "collapsed": false
   },
   "outputs": [],
   "source": [
    "# encoding in unicode\n",
    "jobs[\"snippet\"] = jobs[\"snippet\"].apply(lambda x: x.encode('ascii', 'ignore'))\n",
    "jobs[\"snippet\"] = jobs[\"snippet\"].apply(lambda x: x.replace(\"\\r\", \"\"))\n",
    "jobs[\"title\"] = jobs[\"title\"].apply(lambda x: x.replace(\"\\r\", \"\"))\n",
    "jobs[\"title\"] = jobs[\"title\"].apply(lambda x: x.encode('ascii', 'ignore'))"
   ]
  },
  {
   "cell_type": "code",
   "execution_count": 220,
   "metadata": {
    "collapsed": false
   },
   "outputs": [],
   "source": [
    "jobs.to_csv(\"jobs.csv\")"
   ]
  }
 ],
 "metadata": {
  "kernelspec": {
   "display_name": "Python 2",
   "language": "python",
   "name": "python2"
  },
  "language_info": {
   "codemirror_mode": {
    "name": "ipython",
    "version": 2
   },
   "file_extension": ".py",
   "mimetype": "text/x-python",
   "name": "python",
   "nbconvert_exporter": "python",
   "pygments_lexer": "ipython2",
   "version": "2.7.11"
  }
 },
 "nbformat": 4,
 "nbformat_minor": 0
}
